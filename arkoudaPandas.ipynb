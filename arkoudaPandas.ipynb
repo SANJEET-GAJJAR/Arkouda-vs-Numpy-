{
 "cells": [
  {
   "cell_type": "code",
   "execution_count": 1,
   "id": "d5cf2dc6",
   "metadata": {
    "ExecuteTime": {
     "end_time": "2021-11-04T00:26:27.849415Z",
     "start_time": "2021-11-04T00:26:26.714325Z"
    }
   },
   "outputs": [
    {
     "name": "stdout",
     "output_type": "stream",
     "text": [
      "    _         _                   _       \n",
      "   / \\   _ __| | _____  _   _  __| | __ _ \n",
      "  / _ \\ | '__| |/ / _ \\| | | |/ _` |/ _` |\n",
      " / ___ \\| |  |   < (_) | |_| | (_| | (_| |\n",
      "/_/   \\_\\_|  |_|\\_\\___/ \\__,_|\\__,_|\\__,_|\n",
      "                                          \n",
      "\n",
      "Client Version: 0+unknown\n"
     ]
    }
   ],
   "source": [
    "import arkouda as ak"
   ]
  },
  {
   "cell_type": "code",
   "execution_count": 383,
   "id": "95d4a352",
   "metadata": {
    "ExecuteTime": {
     "end_time": "2021-11-03T23:13:40.419546Z",
     "start_time": "2021-11-03T23:13:40.411786Z"
    }
   },
   "outputs": [
    {
     "name": "stderr",
     "output_type": "stream",
     "text": [
      "connected to arkouda server tcp://*:5555\n"
     ]
    }
   ],
   "source": [
    "# arkouda needs a chapel server. for running this code first have to set up server\n",
    "ak.connect(connect_url='tcp://localhost:5555')"
   ]
  },
  {
   "cell_type": "code",
   "execution_count": 327,
   "id": "3cbd9e26",
   "metadata": {
    "ExecuteTime": {
     "end_time": "2021-11-03T22:36:46.156867Z",
     "start_time": "2021-11-03T22:36:46.154557Z"
    }
   },
   "outputs": [],
   "source": [
    "import numpy as np\n",
    "import pandas as pd"
   ]
  },
  {
   "cell_type": "code",
   "execution_count": 331,
   "id": "3ac14956",
   "metadata": {
    "ExecuteTime": {
     "end_time": "2021-11-03T22:38:44.722530Z",
     "start_time": "2021-11-03T22:38:44.572187Z"
    }
   },
   "outputs": [
    {
     "data": {
      "text/html": [
       "<div>\n",
       "<style scoped>\n",
       "    .dataframe tbody tr th:only-of-type {\n",
       "        vertical-align: middle;\n",
       "    }\n",
       "\n",
       "    .dataframe tbody tr th {\n",
       "        vertical-align: top;\n",
       "    }\n",
       "\n",
       "    .dataframe thead th {\n",
       "        text-align: right;\n",
       "    }\n",
       "</style>\n",
       "<table border=\"1\" class=\"dataframe\">\n",
       "  <thead>\n",
       "    <tr style=\"text-align: right;\">\n",
       "      <th></th>\n",
       "      <th>Unnamed: 0</th>\n",
       "      <th>b2c_c2c</th>\n",
       "      <th>declared_handling_days</th>\n",
       "      <th>shipment_method_id</th>\n",
       "      <th>shipping_fee</th>\n",
       "      <th>carrier_min_estimate</th>\n",
       "      <th>carrier_max_estimate</th>\n",
       "      <th>category_id</th>\n",
       "      <th>item_price</th>\n",
       "      <th>quantity</th>\n",
       "      <th>payment_datetime</th>\n",
       "      <th>delivery_date</th>\n",
       "      <th>weight</th>\n",
       "      <th>weight_units</th>\n",
       "      <th>package_size</th>\n",
       "      <th>Distance</th>\n",
       "      <th>pay_to_acctt</th>\n",
       "      <th>del_days</th>\n",
       "    </tr>\n",
       "  </thead>\n",
       "  <tbody>\n",
       "    <tr>\n",
       "      <th>0</th>\n",
       "      <td>0</td>\n",
       "      <td>1</td>\n",
       "      <td>0.0</td>\n",
       "      <td>0</td>\n",
       "      <td>0.0</td>\n",
       "      <td>3</td>\n",
       "      <td>5</td>\n",
       "      <td>6</td>\n",
       "      <td>35.99</td>\n",
       "      <td>1</td>\n",
       "      <td>2019-07-06</td>\n",
       "      <td>2019-07-10</td>\n",
       "      <td>7</td>\n",
       "      <td>1</td>\n",
       "      <td>5</td>\n",
       "      <td>1621.567281</td>\n",
       "      <td>2</td>\n",
       "      <td>4</td>\n",
       "    </tr>\n",
       "    <tr>\n",
       "      <th>1</th>\n",
       "      <td>1</td>\n",
       "      <td>2</td>\n",
       "      <td>1.0</td>\n",
       "      <td>1</td>\n",
       "      <td>0.0</td>\n",
       "      <td>2</td>\n",
       "      <td>5</td>\n",
       "      <td>10</td>\n",
       "      <td>349.99</td>\n",
       "      <td>2</td>\n",
       "      <td>2019-01-02</td>\n",
       "      <td>2019-01-07</td>\n",
       "      <td>176</td>\n",
       "      <td>1</td>\n",
       "      <td>5</td>\n",
       "      <td>687.747533</td>\n",
       "      <td>1</td>\n",
       "      <td>5</td>\n",
       "    </tr>\n",
       "    <tr>\n",
       "      <th>2</th>\n",
       "      <td>2</td>\n",
       "      <td>1</td>\n",
       "      <td>2.0</td>\n",
       "      <td>1</td>\n",
       "      <td>12.0</td>\n",
       "      <td>2</td>\n",
       "      <td>5</td>\n",
       "      <td>6</td>\n",
       "      <td>102.50</td>\n",
       "      <td>1</td>\n",
       "      <td>2018-11-11</td>\n",
       "      <td>2018-11-19</td>\n",
       "      <td>32</td>\n",
       "      <td>1</td>\n",
       "      <td>5</td>\n",
       "      <td>1057.383292</td>\n",
       "      <td>4</td>\n",
       "      <td>8</td>\n",
       "    </tr>\n",
       "    <tr>\n",
       "      <th>3</th>\n",
       "      <td>3</td>\n",
       "      <td>2</td>\n",
       "      <td>5.0</td>\n",
       "      <td>1</td>\n",
       "      <td>10.5</td>\n",
       "      <td>2</td>\n",
       "      <td>5</td>\n",
       "      <td>10</td>\n",
       "      <td>18.44</td>\n",
       "      <td>1</td>\n",
       "      <td>2018-05-02</td>\n",
       "      <td>2018-05-07</td>\n",
       "      <td>0</td>\n",
       "      <td>1</td>\n",
       "      <td>5</td>\n",
       "      <td>2567.202433</td>\n",
       "      <td>2</td>\n",
       "      <td>5</td>\n",
       "    </tr>\n",
       "    <tr>\n",
       "      <th>4</th>\n",
       "      <td>4</td>\n",
       "      <td>2</td>\n",
       "      <td>5.0</td>\n",
       "      <td>0</td>\n",
       "      <td>8.4</td>\n",
       "      <td>3</td>\n",
       "      <td>5</td>\n",
       "      <td>3</td>\n",
       "      <td>4.55</td>\n",
       "      <td>1</td>\n",
       "      <td>2019-02-23</td>\n",
       "      <td>2019-03-04</td>\n",
       "      <td>16</td>\n",
       "      <td>1</td>\n",
       "      <td>5</td>\n",
       "      <td>887.293984</td>\n",
       "      <td>5</td>\n",
       "      <td>9</td>\n",
       "    </tr>\n",
       "  </tbody>\n",
       "</table>\n",
       "</div>"
      ],
      "text/plain": [
       "   Unnamed: 0  b2c_c2c  declared_handling_days  shipment_method_id  \\\n",
       "0           0        1                     0.0                   0   \n",
       "1           1        2                     1.0                   1   \n",
       "2           2        1                     2.0                   1   \n",
       "3           3        2                     5.0                   1   \n",
       "4           4        2                     5.0                   0   \n",
       "\n",
       "   shipping_fee  carrier_min_estimate  carrier_max_estimate  category_id  \\\n",
       "0           0.0                     3                     5            6   \n",
       "1           0.0                     2                     5           10   \n",
       "2          12.0                     2                     5            6   \n",
       "3          10.5                     2                     5           10   \n",
       "4           8.4                     3                     5            3   \n",
       "\n",
       "   item_price  quantity payment_datetime delivery_date  weight  weight_units  \\\n",
       "0       35.99         1       2019-07-06    2019-07-10       7             1   \n",
       "1      349.99         2       2019-01-02    2019-01-07     176             1   \n",
       "2      102.50         1       2018-11-11    2018-11-19      32             1   \n",
       "3       18.44         1       2018-05-02    2018-05-07       0             1   \n",
       "4        4.55         1       2019-02-23    2019-03-04      16             1   \n",
       "\n",
       "   package_size     Distance  pay_to_acctt  del_days  \n",
       "0             5  1621.567281             2         4  \n",
       "1             5   687.747533             1         5  \n",
       "2             5  1057.383292             4         8  \n",
       "3             5  2567.202433             2         5  \n",
       "4             5   887.293984             5         9  "
      ]
     },
     "execution_count": 331,
     "metadata": {},
     "output_type": "execute_result"
    }
   ],
   "source": [
    "ardf=pd.read_csv(\"refined_train_data.csv\"  )\n",
    "ardf.head()"
   ]
  },
  {
   "cell_type": "code",
   "execution_count": 332,
   "id": "2db13618",
   "metadata": {
    "ExecuteTime": {
     "end_time": "2021-11-03T22:38:55.029978Z",
     "start_time": "2021-11-03T22:38:55.022341Z"
    }
   },
   "outputs": [],
   "source": [
    "ardf.drop(['Unnamed: 0'], axis=1,inplace=True)"
   ]
  },
  {
   "cell_type": "code",
   "execution_count": 10,
   "id": "05960b5d",
   "metadata": {
    "ExecuteTime": {
     "end_time": "2021-11-02T17:29:56.303921Z",
     "start_time": "2021-11-02T17:29:56.297455Z"
    }
   },
   "outputs": [],
   "source": [
    "# converting dataframe to arkouda directory for operation on data\n",
    "def ak_create_akdict_from_df(df):\n",
    "    akdict ={}\n",
    "    for cname in df.keys():\n",
    "        if df[cname].dtype.name == 'object':\n",
    "            akdict[cname] = ak.from_series(df[cname],dtype=np.str)\n",
    "        else:\n",
    "            akdict[cname]= ak.from_series(df[cname])\n",
    "    return akdict"
   ]
  },
  {
   "cell_type": "code",
   "execution_count": 33,
   "id": "b5f1afef",
   "metadata": {
    "ExecuteTime": {
     "end_time": "2021-11-02T19:46:38.440578Z",
     "start_time": "2021-11-02T19:46:27.657974Z"
    }
   },
   "outputs": [],
   "source": [
    "arkdict = ak_create_akdict_from_df(ardf)"
   ]
  },
  {
   "cell_type": "code",
   "execution_count": 34,
   "id": "1275e86c",
   "metadata": {
    "ExecuteTime": {
     "end_time": "2021-11-02T19:46:42.909228Z",
     "start_time": "2021-11-02T19:46:42.885323Z"
    }
   },
   "outputs": [
    {
     "data": {
      "text/plain": [
       "{'b2c_c2c': array([1 2 1 ... 2 2 2]),\n",
       " 'declared_handling_days': array([0 1 2 ... 1 2 1]),\n",
       " 'shipment_method_id': array([0 1 1 ... 0 0 0]),\n",
       " 'shipping_fee': array([0 0 12 ... 0 0 0]),\n",
       " 'carrier_min_estimate': array([3 2 2 ... 3 3 3]),\n",
       " 'carrier_max_estimate': array([5 5 5 ... 5 5 5]),\n",
       " 'category_id': array([6 10 6 ... 12 0 11]),\n",
       " 'item_price': array([35.990000000000002 349.99000000000001 102.5 ... 6.79 11.58 6.9800000000000004]),\n",
       " 'quantity': array([1 2 1 ... 1 1 1]),\n",
       " 'payment_datetime': array(['2019-07-06', '2019-01-02', '2018-11-11', ... , '2018-04-05', '2019-10-07', '2019-01-23']),\n",
       " 'delivery_date': array(['2019-07-10', '2019-01-07', '2018-11-19', ... , '2018-04-09', '2019-10-15', '2019-01-28']),\n",
       " 'weight': array([7 176 32 ... 4 0 4]),\n",
       " 'weight_units': array([1 1 1 ... 1 1 1]),\n",
       " 'package_size': array([5 5 5 ... 5 4 5]),\n",
       " 'Distance': array([1621.5672809586274 687.74753275666808 1057.3832923390451 ... 2548.721029168873 3866.1171860804561 4271.1202301128842]),\n",
       " 'pay_to_acctt': array([2 1 4 ... 1 1 1]),\n",
       " 'del_days': array([4 5 8 ... 4 8 5])}"
      ]
     },
     "execution_count": 34,
     "metadata": {},
     "output_type": "execute_result"
    }
   ],
   "source": [
    "# data converted as arkouda directory\n",
    "arkdict"
   ]
  },
  {
   "cell_type": "code",
   "execution_count": 333,
   "id": "e42344a6",
   "metadata": {
    "ExecuteTime": {
     "end_time": "2021-11-03T22:41:44.301906Z",
     "start_time": "2021-11-03T22:41:42.830566Z"
    }
   },
   "outputs": [],
   "source": [
    "# some operations by arkouda to reduce fetures\n",
    "arkdict['carrier_mean'] = (arkdict['carrier_min_estimate']+arkdict['carrier_max_estimate'])/2"
   ]
  },
  {
   "cell_type": "code",
   "execution_count": 334,
   "id": "36d582d3",
   "metadata": {
    "ExecuteTime": {
     "end_time": "2021-11-03T22:42:05.424485Z",
     "start_time": "2021-11-03T22:42:04.700997Z"
    }
   },
   "outputs": [],
   "source": [
    "arkdict['whole_weight'] = arkdict['weight']*arkdict['weight_units']"
   ]
  },
  {
   "cell_type": "code",
   "execution_count": 335,
   "id": "6108db35",
   "metadata": {
    "ExecuteTime": {
     "end_time": "2021-11-03T22:42:09.144450Z",
     "start_time": "2021-11-03T22:42:08.433866Z"
    }
   },
   "outputs": [],
   "source": [
    "arkdict['total_price'] = arkdict['item_price']*arkdict['quantity']"
   ]
  },
  {
   "cell_type": "code",
   "execution_count": 336,
   "id": "0806eadc",
   "metadata": {
    "ExecuteTime": {
     "end_time": "2021-11-03T22:42:12.908326Z",
     "start_time": "2021-11-03T22:42:12.130012Z"
    }
   },
   "outputs": [],
   "source": [
    "arkdict['exp_handling'] = arkdict['pay_to_acctt']+arkdict['declared_handling_days']"
   ]
  },
  {
   "cell_type": "code",
   "execution_count": 337,
   "id": "ddde21a5",
   "metadata": {
    "ExecuteTime": {
     "end_time": "2021-11-03T22:43:22.471643Z",
     "start_time": "2021-11-03T22:43:21.461632Z"
    }
   },
   "outputs": [],
   "source": [
    "#back to dataframe from arkouda directory\n",
    "akdf = pd.DataFrame({col: a.to_ndarray() for col, a in arkdict.items()})\n",
    "\n"
   ]
  },
  {
   "cell_type": "code",
   "execution_count": 338,
   "id": "d7fe6c4f",
   "metadata": {
    "ExecuteTime": {
     "end_time": "2021-11-03T22:43:37.995906Z",
     "start_time": "2021-11-03T22:43:37.952677Z"
    }
   },
   "outputs": [
    {
     "data": {
      "text/html": [
       "<div>\n",
       "<style scoped>\n",
       "    .dataframe tbody tr th:only-of-type {\n",
       "        vertical-align: middle;\n",
       "    }\n",
       "\n",
       "    .dataframe tbody tr th {\n",
       "        vertical-align: top;\n",
       "    }\n",
       "\n",
       "    .dataframe thead th {\n",
       "        text-align: right;\n",
       "    }\n",
       "</style>\n",
       "<table border=\"1\" class=\"dataframe\">\n",
       "  <thead>\n",
       "    <tr style=\"text-align: right;\">\n",
       "      <th></th>\n",
       "      <th>b2c_c2c</th>\n",
       "      <th>declared_handling_days</th>\n",
       "      <th>shipment_method_id</th>\n",
       "      <th>shipping_fee</th>\n",
       "      <th>carrier_min_estimate</th>\n",
       "      <th>carrier_max_estimate</th>\n",
       "      <th>category_id</th>\n",
       "      <th>item_price</th>\n",
       "      <th>quantity</th>\n",
       "      <th>payment_datetime</th>\n",
       "      <th>...</th>\n",
       "      <th>weight</th>\n",
       "      <th>weight_units</th>\n",
       "      <th>package_size</th>\n",
       "      <th>Distance</th>\n",
       "      <th>pay_to_acctt</th>\n",
       "      <th>del_days</th>\n",
       "      <th>carrier_mean</th>\n",
       "      <th>whole_weight</th>\n",
       "      <th>total_price</th>\n",
       "      <th>exp_handling</th>\n",
       "    </tr>\n",
       "  </thead>\n",
       "  <tbody>\n",
       "    <tr>\n",
       "      <th>0</th>\n",
       "      <td>1</td>\n",
       "      <td>0.0</td>\n",
       "      <td>0</td>\n",
       "      <td>0.0</td>\n",
       "      <td>3</td>\n",
       "      <td>5</td>\n",
       "      <td>6</td>\n",
       "      <td>35.99</td>\n",
       "      <td>1</td>\n",
       "      <td>2019-07-06</td>\n",
       "      <td>...</td>\n",
       "      <td>7</td>\n",
       "      <td>1</td>\n",
       "      <td>5</td>\n",
       "      <td>1621.567281</td>\n",
       "      <td>2</td>\n",
       "      <td>4</td>\n",
       "      <td>4.0</td>\n",
       "      <td>7</td>\n",
       "      <td>35.99</td>\n",
       "      <td>2.0</td>\n",
       "    </tr>\n",
       "    <tr>\n",
       "      <th>1</th>\n",
       "      <td>2</td>\n",
       "      <td>1.0</td>\n",
       "      <td>1</td>\n",
       "      <td>0.0</td>\n",
       "      <td>2</td>\n",
       "      <td>5</td>\n",
       "      <td>10</td>\n",
       "      <td>349.99</td>\n",
       "      <td>2</td>\n",
       "      <td>2019-01-02</td>\n",
       "      <td>...</td>\n",
       "      <td>176</td>\n",
       "      <td>1</td>\n",
       "      <td>5</td>\n",
       "      <td>687.747533</td>\n",
       "      <td>1</td>\n",
       "      <td>5</td>\n",
       "      <td>3.5</td>\n",
       "      <td>176</td>\n",
       "      <td>699.98</td>\n",
       "      <td>2.0</td>\n",
       "    </tr>\n",
       "    <tr>\n",
       "      <th>2</th>\n",
       "      <td>1</td>\n",
       "      <td>2.0</td>\n",
       "      <td>1</td>\n",
       "      <td>12.0</td>\n",
       "      <td>2</td>\n",
       "      <td>5</td>\n",
       "      <td>6</td>\n",
       "      <td>102.50</td>\n",
       "      <td>1</td>\n",
       "      <td>2018-11-11</td>\n",
       "      <td>...</td>\n",
       "      <td>32</td>\n",
       "      <td>1</td>\n",
       "      <td>5</td>\n",
       "      <td>1057.383292</td>\n",
       "      <td>4</td>\n",
       "      <td>8</td>\n",
       "      <td>3.5</td>\n",
       "      <td>32</td>\n",
       "      <td>102.50</td>\n",
       "      <td>6.0</td>\n",
       "    </tr>\n",
       "    <tr>\n",
       "      <th>3</th>\n",
       "      <td>2</td>\n",
       "      <td>5.0</td>\n",
       "      <td>1</td>\n",
       "      <td>10.5</td>\n",
       "      <td>2</td>\n",
       "      <td>5</td>\n",
       "      <td>10</td>\n",
       "      <td>18.44</td>\n",
       "      <td>1</td>\n",
       "      <td>2018-05-02</td>\n",
       "      <td>...</td>\n",
       "      <td>0</td>\n",
       "      <td>1</td>\n",
       "      <td>5</td>\n",
       "      <td>2567.202433</td>\n",
       "      <td>2</td>\n",
       "      <td>5</td>\n",
       "      <td>3.5</td>\n",
       "      <td>0</td>\n",
       "      <td>18.44</td>\n",
       "      <td>7.0</td>\n",
       "    </tr>\n",
       "    <tr>\n",
       "      <th>4</th>\n",
       "      <td>2</td>\n",
       "      <td>5.0</td>\n",
       "      <td>0</td>\n",
       "      <td>8.4</td>\n",
       "      <td>3</td>\n",
       "      <td>5</td>\n",
       "      <td>3</td>\n",
       "      <td>4.55</td>\n",
       "      <td>1</td>\n",
       "      <td>2019-02-23</td>\n",
       "      <td>...</td>\n",
       "      <td>16</td>\n",
       "      <td>1</td>\n",
       "      <td>5</td>\n",
       "      <td>887.293984</td>\n",
       "      <td>5</td>\n",
       "      <td>9</td>\n",
       "      <td>4.0</td>\n",
       "      <td>16</td>\n",
       "      <td>4.55</td>\n",
       "      <td>10.0</td>\n",
       "    </tr>\n",
       "  </tbody>\n",
       "</table>\n",
       "<p>5 rows × 21 columns</p>\n",
       "</div>"
      ],
      "text/plain": [
       "   b2c_c2c  declared_handling_days  shipment_method_id  shipping_fee  \\\n",
       "0        1                     0.0                   0           0.0   \n",
       "1        2                     1.0                   1           0.0   \n",
       "2        1                     2.0                   1          12.0   \n",
       "3        2                     5.0                   1          10.5   \n",
       "4        2                     5.0                   0           8.4   \n",
       "\n",
       "   carrier_min_estimate  carrier_max_estimate  category_id  item_price  \\\n",
       "0                     3                     5            6       35.99   \n",
       "1                     2                     5           10      349.99   \n",
       "2                     2                     5            6      102.50   \n",
       "3                     2                     5           10       18.44   \n",
       "4                     3                     5            3        4.55   \n",
       "\n",
       "   quantity payment_datetime  ... weight  weight_units  package_size  \\\n",
       "0         1       2019-07-06  ...      7             1             5   \n",
       "1         2       2019-01-02  ...    176             1             5   \n",
       "2         1       2018-11-11  ...     32             1             5   \n",
       "3         1       2018-05-02  ...      0             1             5   \n",
       "4         1       2019-02-23  ...     16             1             5   \n",
       "\n",
       "      Distance  pay_to_acctt  del_days  carrier_mean  whole_weight  \\\n",
       "0  1621.567281             2         4           4.0             7   \n",
       "1   687.747533             1         5           3.5           176   \n",
       "2  1057.383292             4         8           3.5            32   \n",
       "3  2567.202433             2         5           3.5             0   \n",
       "4   887.293984             5         9           4.0            16   \n",
       "\n",
       "   total_price  exp_handling  \n",
       "0        35.99           2.0  \n",
       "1       699.98           2.0  \n",
       "2       102.50           6.0  \n",
       "3        18.44           7.0  \n",
       "4         4.55          10.0  \n",
       "\n",
       "[5 rows x 21 columns]"
      ]
     },
     "execution_count": 338,
     "metadata": {},
     "output_type": "execute_result"
    }
   ],
   "source": [
    "akdf.head()"
   ]
  },
  {
   "cell_type": "code",
   "execution_count": 339,
   "id": "2c495253",
   "metadata": {
    "ExecuteTime": {
     "end_time": "2021-11-03T22:43:54.735112Z",
     "start_time": "2021-11-03T22:43:54.727239Z"
    }
   },
   "outputs": [],
   "source": [
    "akdf.drop(['carrier_min_estimate','carrier_max_estimate','item_price','quantity','weight','weight_units'], axis=1,inplace=True)"
   ]
  },
  {
   "cell_type": "code",
   "execution_count": 340,
   "id": "c6291a24",
   "metadata": {
    "ExecuteTime": {
     "end_time": "2021-11-03T22:44:00.313432Z",
     "start_time": "2021-11-03T22:44:00.283609Z"
    }
   },
   "outputs": [
    {
     "data": {
      "text/html": [
       "<div>\n",
       "<style scoped>\n",
       "    .dataframe tbody tr th:only-of-type {\n",
       "        vertical-align: middle;\n",
       "    }\n",
       "\n",
       "    .dataframe tbody tr th {\n",
       "        vertical-align: top;\n",
       "    }\n",
       "\n",
       "    .dataframe thead th {\n",
       "        text-align: right;\n",
       "    }\n",
       "</style>\n",
       "<table border=\"1\" class=\"dataframe\">\n",
       "  <thead>\n",
       "    <tr style=\"text-align: right;\">\n",
       "      <th></th>\n",
       "      <th>b2c_c2c</th>\n",
       "      <th>declared_handling_days</th>\n",
       "      <th>shipment_method_id</th>\n",
       "      <th>shipping_fee</th>\n",
       "      <th>category_id</th>\n",
       "      <th>payment_datetime</th>\n",
       "      <th>delivery_date</th>\n",
       "      <th>package_size</th>\n",
       "      <th>Distance</th>\n",
       "      <th>pay_to_acctt</th>\n",
       "      <th>del_days</th>\n",
       "      <th>carrier_mean</th>\n",
       "      <th>whole_weight</th>\n",
       "      <th>total_price</th>\n",
       "      <th>exp_handling</th>\n",
       "    </tr>\n",
       "  </thead>\n",
       "  <tbody>\n",
       "    <tr>\n",
       "      <th>0</th>\n",
       "      <td>1</td>\n",
       "      <td>0.0</td>\n",
       "      <td>0</td>\n",
       "      <td>0.0</td>\n",
       "      <td>6</td>\n",
       "      <td>2019-07-06</td>\n",
       "      <td>2019-07-10</td>\n",
       "      <td>5</td>\n",
       "      <td>1621.567281</td>\n",
       "      <td>2</td>\n",
       "      <td>4</td>\n",
       "      <td>4.0</td>\n",
       "      <td>7</td>\n",
       "      <td>35.99</td>\n",
       "      <td>2.0</td>\n",
       "    </tr>\n",
       "    <tr>\n",
       "      <th>1</th>\n",
       "      <td>2</td>\n",
       "      <td>1.0</td>\n",
       "      <td>1</td>\n",
       "      <td>0.0</td>\n",
       "      <td>10</td>\n",
       "      <td>2019-01-02</td>\n",
       "      <td>2019-01-07</td>\n",
       "      <td>5</td>\n",
       "      <td>687.747533</td>\n",
       "      <td>1</td>\n",
       "      <td>5</td>\n",
       "      <td>3.5</td>\n",
       "      <td>176</td>\n",
       "      <td>699.98</td>\n",
       "      <td>2.0</td>\n",
       "    </tr>\n",
       "    <tr>\n",
       "      <th>2</th>\n",
       "      <td>1</td>\n",
       "      <td>2.0</td>\n",
       "      <td>1</td>\n",
       "      <td>12.0</td>\n",
       "      <td>6</td>\n",
       "      <td>2018-11-11</td>\n",
       "      <td>2018-11-19</td>\n",
       "      <td>5</td>\n",
       "      <td>1057.383292</td>\n",
       "      <td>4</td>\n",
       "      <td>8</td>\n",
       "      <td>3.5</td>\n",
       "      <td>32</td>\n",
       "      <td>102.50</td>\n",
       "      <td>6.0</td>\n",
       "    </tr>\n",
       "    <tr>\n",
       "      <th>3</th>\n",
       "      <td>2</td>\n",
       "      <td>5.0</td>\n",
       "      <td>1</td>\n",
       "      <td>10.5</td>\n",
       "      <td>10</td>\n",
       "      <td>2018-05-02</td>\n",
       "      <td>2018-05-07</td>\n",
       "      <td>5</td>\n",
       "      <td>2567.202433</td>\n",
       "      <td>2</td>\n",
       "      <td>5</td>\n",
       "      <td>3.5</td>\n",
       "      <td>0</td>\n",
       "      <td>18.44</td>\n",
       "      <td>7.0</td>\n",
       "    </tr>\n",
       "    <tr>\n",
       "      <th>4</th>\n",
       "      <td>2</td>\n",
       "      <td>5.0</td>\n",
       "      <td>0</td>\n",
       "      <td>8.4</td>\n",
       "      <td>3</td>\n",
       "      <td>2019-02-23</td>\n",
       "      <td>2019-03-04</td>\n",
       "      <td>5</td>\n",
       "      <td>887.293984</td>\n",
       "      <td>5</td>\n",
       "      <td>9</td>\n",
       "      <td>4.0</td>\n",
       "      <td>16</td>\n",
       "      <td>4.55</td>\n",
       "      <td>10.0</td>\n",
       "    </tr>\n",
       "  </tbody>\n",
       "</table>\n",
       "</div>"
      ],
      "text/plain": [
       "   b2c_c2c  declared_handling_days  shipment_method_id  shipping_fee  \\\n",
       "0        1                     0.0                   0           0.0   \n",
       "1        2                     1.0                   1           0.0   \n",
       "2        1                     2.0                   1          12.0   \n",
       "3        2                     5.0                   1          10.5   \n",
       "4        2                     5.0                   0           8.4   \n",
       "\n",
       "   category_id payment_datetime delivery_date  package_size     Distance  \\\n",
       "0            6       2019-07-06    2019-07-10             5  1621.567281   \n",
       "1           10       2019-01-02    2019-01-07             5   687.747533   \n",
       "2            6       2018-11-11    2018-11-19             5  1057.383292   \n",
       "3           10       2018-05-02    2018-05-07             5  2567.202433   \n",
       "4            3       2019-02-23    2019-03-04             5   887.293984   \n",
       "\n",
       "   pay_to_acctt  del_days  carrier_mean  whole_weight  total_price  \\\n",
       "0             2         4           4.0             7        35.99   \n",
       "1             1         5           3.5           176       699.98   \n",
       "2             4         8           3.5            32       102.50   \n",
       "3             2         5           3.5             0        18.44   \n",
       "4             5         9           4.0            16         4.55   \n",
       "\n",
       "   exp_handling  \n",
       "0           2.0  \n",
       "1           2.0  \n",
       "2           6.0  \n",
       "3           7.0  \n",
       "4          10.0  "
      ]
     },
     "execution_count": 340,
     "metadata": {},
     "output_type": "execute_result"
    }
   ],
   "source": [
    "akdf.head()"
   ]
  },
  {
   "cell_type": "code",
   "execution_count": 341,
   "id": "8f651d03",
   "metadata": {
    "ExecuteTime": {
     "end_time": "2021-11-03T22:44:06.349184Z",
     "start_time": "2021-11-03T22:44:06.342248Z"
    }
   },
   "outputs": [],
   "source": [
    "akdf.drop(['payment_datetime','delivery_date'],axis=1,inplace=True)"
   ]
  },
  {
   "cell_type": "code",
   "execution_count": 342,
   "id": "e48acc8c",
   "metadata": {
    "ExecuteTime": {
     "end_time": "2021-11-03T22:44:09.932756Z",
     "start_time": "2021-11-03T22:44:09.925526Z"
    }
   },
   "outputs": [],
   "source": [
    "akdf.drop(['declared_handling_days'],axis=1,inplace=True)"
   ]
  },
  {
   "cell_type": "code",
   "execution_count": 343,
   "id": "106558d2",
   "metadata": {
    "ExecuteTime": {
     "end_time": "2021-11-03T22:44:45.425667Z",
     "start_time": "2021-11-03T22:44:45.401990Z"
    }
   },
   "outputs": [
    {
     "name": "stdout",
     "output_type": "stream",
     "text": [
      "<class 'pandas.core.frame.DataFrame'>\n",
      "RangeIndex: 55641 entries, 0 to 55640\n",
      "Data columns (total 12 columns):\n",
      " #   Column              Non-Null Count  Dtype  \n",
      "---  ------              --------------  -----  \n",
      " 0   b2c_c2c             55641 non-null  int64  \n",
      " 1   shipment_method_id  55641 non-null  int64  \n",
      " 2   shipping_fee        55641 non-null  float64\n",
      " 3   category_id         55641 non-null  int64  \n",
      " 4   package_size        55641 non-null  int64  \n",
      " 5   Distance            55641 non-null  float64\n",
      " 6   pay_to_acctt        55641 non-null  int64  \n",
      " 7   del_days            55641 non-null  int64  \n",
      " 8   carrier_mean        55641 non-null  float64\n",
      " 9   whole_weight        55641 non-null  int64  \n",
      " 10  total_price         55641 non-null  float64\n",
      " 11  exp_handling        55641 non-null  float64\n",
      "dtypes: float64(5), int64(7)\n",
      "memory usage: 5.1 MB\n"
     ]
    }
   ],
   "source": [
    "akdf.info()"
   ]
  },
  {
   "cell_type": "code",
   "execution_count": 344,
   "id": "02430d89",
   "metadata": {
    "ExecuteTime": {
     "end_time": "2021-11-03T22:44:59.095683Z",
     "start_time": "2021-11-03T22:44:59.091741Z"
    }
   },
   "outputs": [],
   "source": [
    "from sklearn import linear_model"
   ]
  },
  {
   "cell_type": "code",
   "execution_count": 345,
   "id": "3cc0b833",
   "metadata": {
    "ExecuteTime": {
     "end_time": "2021-11-03T22:45:04.781020Z",
     "start_time": "2021-11-03T22:45:04.774649Z"
    }
   },
   "outputs": [],
   "source": [
    "x=akdf.drop(['del_days'], axis=1)"
   ]
  },
  {
   "cell_type": "code",
   "execution_count": 346,
   "id": "bd357d14",
   "metadata": {
    "ExecuteTime": {
     "end_time": "2021-11-03T22:45:10.674187Z",
     "start_time": "2021-11-03T22:45:10.670292Z"
    }
   },
   "outputs": [],
   "source": [
    "y=akdf.del_days"
   ]
  },
  {
   "cell_type": "code",
   "execution_count": 347,
   "id": "9804345c",
   "metadata": {
    "ExecuteTime": {
     "end_time": "2021-11-03T22:45:14.197429Z",
     "start_time": "2021-11-03T22:45:14.193082Z"
    }
   },
   "outputs": [],
   "source": [
    "from sklearn.model_selection import train_test_split\n",
    "from sklearn.linear_model import SGDRegressor\n",
    "from sklearn.pipeline import make_pipeline\n",
    "from sklearn.preprocessing import StandardScaler\n",
    "from sklearn.linear_model import SGDClassifier\n",
    "from sklearn.linear_model import LogisticRegression\n"
   ]
  },
  {
   "cell_type": "code",
   "execution_count": 348,
   "id": "cfe99bae",
   "metadata": {
    "ExecuteTime": {
     "end_time": "2021-11-03T22:45:18.669904Z",
     "start_time": "2021-11-03T22:45:18.655957Z"
    }
   },
   "outputs": [],
   "source": [
    "xtrain,xtest,ytrain,ytest = train_test_split(x,y, test_size=0.1,random_state=0)"
   ]
  },
  {
   "cell_type": "code",
   "execution_count": 349,
   "id": "84cad127",
   "metadata": {
    "ExecuteTime": {
     "end_time": "2021-11-03T22:45:22.039190Z",
     "start_time": "2021-11-03T22:45:22.035104Z"
    }
   },
   "outputs": [],
   "source": [
    "model=make_pipeline(StandardScaler(), linear_model.LinearRegression())"
   ]
  },
  {
   "cell_type": "code",
   "execution_count": 389,
   "id": "cd915c22",
   "metadata": {
    "ExecuteTime": {
     "end_time": "2021-11-03T23:53:08.019897Z",
     "start_time": "2021-11-03T23:53:07.963187Z"
    }
   },
   "outputs": [
    {
     "data": {
      "text/plain": [
       "Pipeline(steps=[('standardscaler', StandardScaler()),\n",
       "                ('linearregression', LinearRegression())])"
      ]
     },
     "execution_count": 389,
     "metadata": {},
     "output_type": "execute_result"
    }
   ],
   "source": [
    "model.fit(xtrain,ytrain)"
   ]
  },
  {
   "cell_type": "code",
   "execution_count": null,
   "id": "898a7bf0",
   "metadata": {
    "ExecuteTime": {
     "end_time": "2021-11-02T20:30:54.775396Z",
     "start_time": "2021-11-02T20:30:54.709086Z"
    }
   },
   "outputs": [],
   "source": [
    "\n"
   ]
  },
  {
   "cell_type": "code",
   "execution_count": 351,
   "id": "600e873c",
   "metadata": {
    "ExecuteTime": {
     "end_time": "2021-11-03T22:45:55.276902Z",
     "start_time": "2021-11-03T22:45:55.272836Z"
    }
   },
   "outputs": [],
   "source": [
    "from sklearn.metrics import r2_score\n"
   ]
  },
  {
   "cell_type": "code",
   "execution_count": 352,
   "id": "73846a23",
   "metadata": {
    "ExecuteTime": {
     "end_time": "2021-11-03T22:45:59.993658Z",
     "start_time": "2021-11-03T22:45:59.979173Z"
    }
   },
   "outputs": [],
   "source": [
    "predict = model.predict(xtest).round(0)"
   ]
  },
  {
   "cell_type": "code",
   "execution_count": 353,
   "id": "e336bba2",
   "metadata": {
    "ExecuteTime": {
     "end_time": "2021-11-03T22:46:05.450255Z",
     "start_time": "2021-11-03T22:46:05.443337Z"
    }
   },
   "outputs": [
    {
     "data": {
      "text/plain": [
       "array([7., 7., 6., 3., 6., 3., 5., 3., 4., 3.])"
      ]
     },
     "execution_count": 353,
     "metadata": {},
     "output_type": "execute_result"
    }
   ],
   "source": [
    "predict[:10]"
   ]
  },
  {
   "cell_type": "code",
   "execution_count": 354,
   "id": "17e149cc",
   "metadata": {
    "ExecuteTime": {
     "end_time": "2021-11-03T22:46:08.617182Z",
     "start_time": "2021-11-03T22:46:08.609965Z"
    }
   },
   "outputs": [
    {
     "data": {
      "text/plain": [
       "20536     7\n",
       "41240    10\n",
       "3132      6\n",
       "53253     4\n",
       "1417      4\n",
       "28574     6\n",
       "12409    10\n",
       "30662     5\n",
       "41899     5\n",
       "45713     2\n",
       "Name: del_days, dtype: int64"
      ]
     },
     "execution_count": 354,
     "metadata": {},
     "output_type": "execute_result"
    }
   ],
   "source": [
    "ytest.head(10)"
   ]
  },
  {
   "cell_type": "code",
   "execution_count": 355,
   "id": "62e14882",
   "metadata": {
    "ExecuteTime": {
     "end_time": "2021-11-03T22:46:18.819320Z",
     "start_time": "2021-11-03T22:46:18.812344Z"
    }
   },
   "outputs": [
    {
     "data": {
      "text/plain": [
       "0.7746935991575004"
      ]
     },
     "execution_count": 355,
     "metadata": {},
     "output_type": "execute_result"
    }
   ],
   "source": [
    "score = r2_score(ytest,predict)\n",
    "score\n"
   ]
  },
  {
   "cell_type": "code",
   "execution_count": 357,
   "id": "71faba58",
   "metadata": {
    "ExecuteTime": {
     "end_time": "2021-11-03T22:47:22.250621Z",
     "start_time": "2021-11-03T22:47:22.083151Z"
    }
   },
   "outputs": [
    {
     "data": {
      "text/plain": [
       "[<matplotlib.lines.Line2D at 0x7f16164b5e50>]"
      ]
     },
     "execution_count": 357,
     "metadata": {},
     "output_type": "execute_result"
    },
    {
     "data": {
      "image/png": "[encoded data removed]",
      "text/plain": [
       "<Figure size 432x288 with 1 Axes>"
      ]
     },
     "metadata": {
      "needs_background": "light"
     },
     "output_type": "display_data"
    }
   ],
   "source": [
    "# plat prediction and ytest data\n",
    "import matplotlib.pyplot as plt\n",
    "plt.plot(ytest.to_numpy())\n",
    "plt.plot(predict)"
   ]
  },
  {
   "cell_type": "code",
   "execution_count": 359,
   "id": "0131ccf0",
   "metadata": {
    "ExecuteTime": {
     "end_time": "2021-11-03T22:48:49.364700Z",
     "start_time": "2021-11-03T22:48:49.317978Z"
    }
   },
   "outputs": [],
   "source": [
    "#now we are going to predict delivary date of the the sample_test data\n",
    "ar_test_df= pd.read_csv(\"test_data_w_result.csv\")"
   ]
  },
  {
   "cell_type": "code",
   "execution_count": 360,
   "id": "ca4c0eb7",
   "metadata": {
    "ExecuteTime": {
     "end_time": "2021-11-03T22:48:53.331943Z",
     "start_time": "2021-11-03T22:48:53.301429Z"
    }
   },
   "outputs": [
    {
     "data": {
      "text/html": [
       "<div>\n",
       "<style scoped>\n",
       "    .dataframe tbody tr th:only-of-type {\n",
       "        vertical-align: middle;\n",
       "    }\n",
       "\n",
       "    .dataframe tbody tr th {\n",
       "        vertical-align: top;\n",
       "    }\n",
       "\n",
       "    .dataframe thead th {\n",
       "        text-align: right;\n",
       "    }\n",
       "</style>\n",
       "<table border=\"1\" class=\"dataframe\">\n",
       "  <thead>\n",
       "    <tr style=\"text-align: right;\">\n",
       "      <th></th>\n",
       "      <th>Unnamed: 0</th>\n",
       "      <th>b2c_c2c</th>\n",
       "      <th>declared_handling_days</th>\n",
       "      <th>shipment_method_id</th>\n",
       "      <th>shipping_fee</th>\n",
       "      <th>carrier_min_estimate</th>\n",
       "      <th>carrier_max_estimate</th>\n",
       "      <th>category_id</th>\n",
       "      <th>item_price</th>\n",
       "      <th>quantity</th>\n",
       "      <th>weight</th>\n",
       "      <th>weight_units</th>\n",
       "      <th>package_size</th>\n",
       "      <th>Distance</th>\n",
       "      <th>pay_to_acctt</th>\n",
       "      <th>record_number</th>\n",
       "      <th>payment_date</th>\n",
       "      <th>delivery_date</th>\n",
       "    </tr>\n",
       "  </thead>\n",
       "  <tbody>\n",
       "    <tr>\n",
       "      <th>0</th>\n",
       "      <td>0</td>\n",
       "      <td>2</td>\n",
       "      <td>2.0</td>\n",
       "      <td>4</td>\n",
       "      <td>0.00</td>\n",
       "      <td>2</td>\n",
       "      <td>9</td>\n",
       "      <td>11</td>\n",
       "      <td>8.45</td>\n",
       "      <td>1</td>\n",
       "      <td>0</td>\n",
       "      <td>1</td>\n",
       "      <td>3</td>\n",
       "      <td>2531.894475</td>\n",
       "      <td>0</td>\n",
       "      <td>16377733</td>\n",
       "      <td>2019-12-02</td>\n",
       "      <td>2019-12-07</td>\n",
       "    </tr>\n",
       "    <tr>\n",
       "      <th>1</th>\n",
       "      <td>1</td>\n",
       "      <td>2</td>\n",
       "      <td>1.0</td>\n",
       "      <td>1</td>\n",
       "      <td>7.85</td>\n",
       "      <td>2</td>\n",
       "      <td>5</td>\n",
       "      <td>4</td>\n",
       "      <td>5.37</td>\n",
       "      <td>1</td>\n",
       "      <td>32</td>\n",
       "      <td>1</td>\n",
       "      <td>5</td>\n",
       "      <td>71.647965</td>\n",
       "      <td>2</td>\n",
       "      <td>16129562</td>\n",
       "      <td>2019-11-24</td>\n",
       "      <td>2019-11-28</td>\n",
       "    </tr>\n",
       "    <tr>\n",
       "      <th>2</th>\n",
       "      <td>2</td>\n",
       "      <td>1</td>\n",
       "      <td>3.0</td>\n",
       "      <td>0</td>\n",
       "      <td>3.75</td>\n",
       "      <td>3</td>\n",
       "      <td>5</td>\n",
       "      <td>0</td>\n",
       "      <td>8.00</td>\n",
       "      <td>1</td>\n",
       "      <td>4</td>\n",
       "      <td>1</td>\n",
       "      <td>5</td>\n",
       "      <td>1949.842421</td>\n",
       "      <td>2</td>\n",
       "      <td>15452689</td>\n",
       "      <td>2019-12-09</td>\n",
       "      <td>2019-12-14</td>\n",
       "    </tr>\n",
       "    <tr>\n",
       "      <th>3</th>\n",
       "      <td>3</td>\n",
       "      <td>2</td>\n",
       "      <td>1.0</td>\n",
       "      <td>0</td>\n",
       "      <td>0.00</td>\n",
       "      <td>3</td>\n",
       "      <td>5</td>\n",
       "      <td>7</td>\n",
       "      <td>6.25</td>\n",
       "      <td>1</td>\n",
       "      <td>0</td>\n",
       "      <td>1</td>\n",
       "      <td>4</td>\n",
       "      <td>3762.527510</td>\n",
       "      <td>2</td>\n",
       "      <td>16932805</td>\n",
       "      <td>2019-11-23</td>\n",
       "      <td>2019-11-28</td>\n",
       "    </tr>\n",
       "    <tr>\n",
       "      <th>4</th>\n",
       "      <td>4</td>\n",
       "      <td>1</td>\n",
       "      <td>2.0</td>\n",
       "      <td>1</td>\n",
       "      <td>18.00</td>\n",
       "      <td>2</td>\n",
       "      <td>5</td>\n",
       "      <td>22</td>\n",
       "      <td>50.00</td>\n",
       "      <td>1</td>\n",
       "      <td>32</td>\n",
       "      <td>1</td>\n",
       "      <td>5</td>\n",
       "      <td>1420.770599</td>\n",
       "      <td>3</td>\n",
       "      <td>16374203</td>\n",
       "      <td>2019-12-13</td>\n",
       "      <td>2019-12-19</td>\n",
       "    </tr>\n",
       "  </tbody>\n",
       "</table>\n",
       "</div>"
      ],
      "text/plain": [
       "   Unnamed: 0  b2c_c2c  declared_handling_days  shipment_method_id  \\\n",
       "0           0        2                     2.0                   4   \n",
       "1           1        2                     1.0                   1   \n",
       "2           2        1                     3.0                   0   \n",
       "3           3        2                     1.0                   0   \n",
       "4           4        1                     2.0                   1   \n",
       "\n",
       "   shipping_fee  carrier_min_estimate  carrier_max_estimate  category_id  \\\n",
       "0          0.00                     2                     9           11   \n",
       "1          7.85                     2                     5            4   \n",
       "2          3.75                     3                     5            0   \n",
       "3          0.00                     3                     5            7   \n",
       "4         18.00                     2                     5           22   \n",
       "\n",
       "   item_price  quantity  weight  weight_units  package_size     Distance  \\\n",
       "0        8.45         1       0             1             3  2531.894475   \n",
       "1        5.37         1      32             1             5    71.647965   \n",
       "2        8.00         1       4             1             5  1949.842421   \n",
       "3        6.25         1       0             1             4  3762.527510   \n",
       "4       50.00         1      32             1             5  1420.770599   \n",
       "\n",
       "   pay_to_acctt  record_number payment_date delivery_date  \n",
       "0             0       16377733   2019-12-02    2019-12-07  \n",
       "1             2       16129562   2019-11-24    2019-11-28  \n",
       "2             2       15452689   2019-12-09    2019-12-14  \n",
       "3             2       16932805   2019-11-23    2019-11-28  \n",
       "4             3       16374203   2019-12-13    2019-12-19  "
      ]
     },
     "execution_count": 360,
     "metadata": {},
     "output_type": "execute_result"
    }
   ],
   "source": [
    "ar_test_df.head()"
   ]
  },
  {
   "cell_type": "code",
   "execution_count": 361,
   "id": "ce4cc008",
   "metadata": {
    "ExecuteTime": {
     "end_time": "2021-11-03T22:52:00.743964Z",
     "start_time": "2021-11-03T22:52:00.737186Z"
    }
   },
   "outputs": [],
   "source": [
    "tdf_record_number=ar_test_df.record_number\n",
    "tdf_payment_date=ar_test_df.payment_date\n",
    "ar_test_df.drop(['payment_date','record_number'],axis =1, inplace=True)"
   ]
  },
  {
   "cell_type": "code",
   "execution_count": 362,
   "id": "142d0527",
   "metadata": {
    "ExecuteTime": {
     "end_time": "2021-11-03T22:52:05.740761Z",
     "start_time": "2021-11-03T22:52:05.734878Z"
    }
   },
   "outputs": [],
   "source": [
    "ar_test_df.drop(['delivery_date','Unnamed: 0'],axis =1, inplace=True)"
   ]
  },
  {
   "cell_type": "code",
   "execution_count": 363,
   "id": "0ea0422c",
   "metadata": {
    "ExecuteTime": {
     "end_time": "2021-11-03T22:52:45.522033Z",
     "start_time": "2021-11-03T22:52:45.517081Z"
    }
   },
   "outputs": [],
   "source": [
    "# creating arkouda directory\n",
    "def ak_create_akdict_from_df(df):\n",
    "    akdict ={}\n",
    "    for cname in df.keys():\n",
    "        if df[cname].dtype.name == 'object':\n",
    "            akdict[cname] = ak.from_series(df[cname],dtype=np.str)\n",
    "        else:\n",
    "            akdict[cname]= ak.from_series(df[cname])\n",
    "    return akdict"
   ]
  },
  {
   "cell_type": "code",
   "execution_count": 364,
   "id": "fd895120",
   "metadata": {
    "ExecuteTime": {
     "end_time": "2021-11-03T22:53:00.986530Z",
     "start_time": "2021-11-03T22:52:53.057895Z"
    }
   },
   "outputs": [],
   "source": [
    "arkdict_test = ak_create_akdict_from_df(ar_test_df)"
   ]
  },
  {
   "cell_type": "code",
   "execution_count": 365,
   "id": "31262bbd",
   "metadata": {
    "ExecuteTime": {
     "end_time": "2021-11-03T22:53:01.009649Z",
     "start_time": "2021-11-03T22:53:00.988015Z"
    }
   },
   "outputs": [
    {
     "data": {
      "text/plain": [
       "{'b2c_c2c': array([2 2 1 ... 1 2 2]),\n",
       " 'declared_handling_days': array([2 1 3 ... 1 1 3]),\n",
       " 'shipment_method_id': array([4 1 0 ... 0 0 1]),\n",
       " 'shipping_fee': array([0 7.8499999999999996 3.75 ... 3.75 3.3999999999999999 0]),\n",
       " 'carrier_min_estimate': array([2 2 3 ... 3 3 2]),\n",
       " 'carrier_max_estimate': array([9 5 5 ... 5 5 5]),\n",
       " 'category_id': array([11 4 0 ... 7 16 1]),\n",
       " 'item_price': array([8.4499999999999993 5.3700000000000001 8 ... 2.4900000000000002 1.9399999999999999 139.94999999999999]),\n",
       " 'quantity': array([1 1 1 ... 1 1 1]),\n",
       " 'weight': array([0 32 4 ... 0 0 32]),\n",
       " 'weight_units': array([1 1 1 ... 1 1 1]),\n",
       " 'package_size': array([3 5 5 ... 5 5 3]),\n",
       " 'Distance': array([2531.8944748099057 71.647964561283416 1949.8424211179092 ... 287.54477284575006 4287.7256851183301 2519.615061958923]),\n",
       " 'pay_to_acctt': array([0 2 2 ... 1 3 2])}"
      ]
     },
     "execution_count": 365,
     "metadata": {},
     "output_type": "execute_result"
    }
   ],
   "source": [
    "arkdict_test"
   ]
  },
  {
   "cell_type": "code",
   "execution_count": 366,
   "id": "a7ba0594",
   "metadata": {
    "ExecuteTime": {
     "end_time": "2021-11-03T22:53:49.487409Z",
     "start_time": "2021-11-03T22:53:46.341918Z"
    }
   },
   "outputs": [],
   "source": [
    "# feature engineering by arkouda\n",
    "arkdict_test['carrier_mean'] = (arkdict_test['carrier_min_estimate']+arkdict_test['carrier_max_estimate'])/2\n",
    "arkdict_test['whole_weight'] = arkdict_test['weight']*arkdict_test['weight_units']\n",
    "arkdict_test['total_price'] = arkdict_test['item_price']*arkdict_test['quantity']\n",
    "arkdict_test['exp_handling'] = arkdict_test['pay_to_acctt']+arkdict_test['declared_handling_days']"
   ]
  },
  {
   "cell_type": "code",
   "execution_count": 367,
   "id": "4c342cef",
   "metadata": {
    "ExecuteTime": {
     "end_time": "2021-11-03T22:53:51.566139Z",
     "start_time": "2021-11-03T22:53:51.550427Z"
    }
   },
   "outputs": [
    {
     "data": {
      "text/plain": [
       "{'b2c_c2c': array([2 2 1 ... 1 2 2]),\n",
       " 'declared_handling_days': array([2 1 3 ... 1 1 3]),\n",
       " 'shipment_method_id': array([4 1 0 ... 0 0 1]),\n",
       " 'shipping_fee': array([0 7.8499999999999996 3.75 ... 3.75 3.3999999999999999 0]),\n",
       " 'carrier_min_estimate': array([2 2 3 ... 3 3 2]),\n",
       " 'carrier_max_estimate': array([9 5 5 ... 5 5 5]),\n",
       " 'category_id': array([11 4 0 ... 7 16 1]),\n",
       " 'item_price': array([8.4499999999999993 5.3700000000000001 8 ... 2.4900000000000002 1.9399999999999999 139.94999999999999]),\n",
       " 'quantity': array([1 1 1 ... 1 1 1]),\n",
       " 'weight': array([0 32 4 ... 0 0 32]),\n",
       " 'weight_units': array([1 1 1 ... 1 1 1]),\n",
       " 'package_size': array([3 5 5 ... 5 5 3]),\n",
       " 'Distance': array([2531.8944748099057 71.647964561283416 1949.8424211179092 ... 287.54477284575006 4287.7256851183301 2519.615061958923]),\n",
       " 'pay_to_acctt': array([0 2 2 ... 1 3 2]),\n",
       " 'carrier_mean': array([5.5 3.5 4 ... 4 4 3.5]),\n",
       " 'whole_weight': array([0 32 4 ... 0 0 32]),\n",
       " 'total_price': array([8.4499999999999993 5.3700000000000001 8 ... 2.4900000000000002 1.9399999999999999 139.94999999999999]),\n",
       " 'exp_handling': array([2 3 5 ... 2 4 5])}"
      ]
     },
     "execution_count": 367,
     "metadata": {},
     "output_type": "execute_result"
    }
   ],
   "source": [
    "arkdict_test"
   ]
  },
  {
   "cell_type": "code",
   "execution_count": 368,
   "id": "ecd77350",
   "metadata": {
    "ExecuteTime": {
     "end_time": "2021-11-03T22:54:27.318630Z",
     "start_time": "2021-11-03T22:54:27.025590Z"
    }
   },
   "outputs": [],
   "source": [
    "# back to arkouda to dataframe\n",
    "akdf_test = pd.DataFrame({col: a.to_ndarray() for col, a in arkdict_test.items()})"
   ]
  },
  {
   "cell_type": "code",
   "execution_count": 369,
   "id": "7d052f4d",
   "metadata": {
    "ExecuteTime": {
     "end_time": "2021-11-03T22:54:36.291391Z",
     "start_time": "2021-11-03T22:54:36.284216Z"
    }
   },
   "outputs": [],
   "source": [
    "akdf_test.drop(['carrier_min_estimate','carrier_max_estimate','item_price','quantity','weight','weight_units'], axis=1,inplace=True)\n",
    "\n",
    "akdf_test.drop(['declared_handling_days'],axis=1,inplace=True)"
   ]
  },
  {
   "cell_type": "code",
   "execution_count": 370,
   "id": "9a03edbb",
   "metadata": {
    "ExecuteTime": {
     "end_time": "2021-11-03T22:54:49.982932Z",
     "start_time": "2021-11-03T22:54:49.968860Z"
    }
   },
   "outputs": [
    {
     "name": "stdout",
     "output_type": "stream",
     "text": [
      "<class 'pandas.core.frame.DataFrame'>\n",
      "RangeIndex: 14792 entries, 0 to 14791\n",
      "Data columns (total 11 columns):\n",
      " #   Column              Non-Null Count  Dtype  \n",
      "---  ------              --------------  -----  \n",
      " 0   b2c_c2c             14792 non-null  int64  \n",
      " 1   shipment_method_id  14792 non-null  int64  \n",
      " 2   shipping_fee        14792 non-null  float64\n",
      " 3   category_id         14792 non-null  int64  \n",
      " 4   package_size        14792 non-null  int64  \n",
      " 5   Distance            14792 non-null  float64\n",
      " 6   pay_to_acctt        14792 non-null  int64  \n",
      " 7   carrier_mean        14792 non-null  float64\n",
      " 8   whole_weight        14792 non-null  int64  \n",
      " 9   total_price         14792 non-null  float64\n",
      " 10  exp_handling        14792 non-null  float64\n",
      "dtypes: float64(5), int64(6)\n",
      "memory usage: 1.2 MB\n"
     ]
    }
   ],
   "source": [
    "akdf_test.info()"
   ]
  },
  {
   "cell_type": "code",
   "execution_count": 371,
   "id": "9e181696",
   "metadata": {
    "ExecuteTime": {
     "end_time": "2021-11-03T22:55:05.344086Z",
     "start_time": "2021-11-03T22:55:05.340145Z"
    }
   },
   "outputs": [],
   "source": [
    "import datetime"
   ]
  },
  {
   "cell_type": "code",
   "execution_count": 372,
   "id": "e6221923",
   "metadata": {
    "ExecuteTime": {
     "end_time": "2021-11-03T22:55:08.729686Z",
     "start_time": "2021-11-03T22:55:08.705545Z"
    }
   },
   "outputs": [],
   "source": [
    "test_predict=model.predict(akdf_test).round(0)"
   ]
  },
  {
   "cell_type": "code",
   "execution_count": 373,
   "id": "c0f2e5ee",
   "metadata": {
    "ExecuteTime": {
     "end_time": "2021-11-03T22:55:12.179911Z",
     "start_time": "2021-11-03T22:55:12.175663Z"
    }
   },
   "outputs": [],
   "source": [
    "npr = pd.Series(test_predict)"
   ]
  },
  {
   "cell_type": "code",
   "execution_count": 374,
   "id": "96380802",
   "metadata": {
    "ExecuteTime": {
     "end_time": "2021-11-03T22:55:16.511332Z",
     "start_time": "2021-11-03T22:55:16.503149Z"
    }
   },
   "outputs": [
    {
     "data": {
      "text/plain": [
       "0        2019-12-02\n",
       "1        2019-11-24\n",
       "2        2019-12-09\n",
       "3        2019-11-23\n",
       "4        2019-12-13\n",
       "            ...    \n",
       "14787    2019-11-30\n",
       "14788    2019-12-08\n",
       "14789    2019-12-06\n",
       "14790    2019-11-09\n",
       "14791    2019-11-18\n",
       "Name: payment_date, Length: 14792, dtype: object"
      ]
     },
     "execution_count": 374,
     "metadata": {},
     "output_type": "execute_result"
    }
   ],
   "source": [
    "tdf_payment_date\n"
   ]
  },
  {
   "cell_type": "code",
   "execution_count": 375,
   "id": "a28c9410",
   "metadata": {
    "ExecuteTime": {
     "end_time": "2021-11-03T22:56:16.999444Z",
     "start_time": "2021-11-03T22:56:16.991640Z"
    }
   },
   "outputs": [],
   "source": [
    "tdf_payment_date=pd.to_datetime(tdf_payment_date)"
   ]
  },
  {
   "cell_type": "code",
   "execution_count": 376,
   "id": "021cd2a6",
   "metadata": {
    "ExecuteTime": {
     "end_time": "2021-11-03T22:59:26.995193Z",
     "start_time": "2021-11-03T22:59:20.496389Z"
    }
   },
   "outputs": [
    {
     "name": "stderr",
     "output_type": "stream",
     "text": [
      "<ipython-input-376-fc1a9ab07469>:2: DeprecationWarning: The default dtype for empty Series will be 'object' instead of 'float64' in a future version. Specify a dtype explicitly to silence this warning.\n",
      "  test_deivery_date =pd.Series([])\n"
     ]
    }
   ],
   "source": [
    "# # calculating delivery date for sample test dataset\n",
    "test_deivery_date =pd.Series([])\n",
    "\n",
    "for i in range(len(tdf_payment_date)):\n",
    "    \n",
    "    nextdate = tdf_payment_date[i] + datetime.timedelta(days=npr[i])\n",
    "    nextdate=pd.Series([nextdate])\n",
    "    test_deivery_date=test_deivery_date.append(nextdate,ignore_index=True)"
   ]
  },
  {
   "cell_type": "code",
   "execution_count": 377,
   "id": "5c651c5d",
   "metadata": {
    "ExecuteTime": {
     "end_time": "2021-11-03T22:59:30.566708Z",
     "start_time": "2021-11-03T22:59:30.561765Z"
    }
   },
   "outputs": [
    {
     "data": {
      "text/plain": [
       "0       2019-12-07\n",
       "1       2019-11-28\n",
       "2       2019-12-14\n",
       "3       2019-11-28\n",
       "4       2019-12-19\n",
       "           ...    \n",
       "14787   2019-12-05\n",
       "14788   2019-12-14\n",
       "14789   2019-12-10\n",
       "14790   2019-11-15\n",
       "14791   2019-11-23\n",
       "Length: 14792, dtype: datetime64[ns]"
      ]
     },
     "execution_count": 377,
     "metadata": {},
     "output_type": "execute_result"
    }
   ],
   "source": [
    "test_deivery_date"
   ]
  },
  {
   "cell_type": "code",
   "execution_count": 378,
   "id": "8c4bdf8e",
   "metadata": {
    "ExecuteTime": {
     "end_time": "2021-11-03T23:02:08.733861Z",
     "start_time": "2021-11-03T23:02:08.729590Z"
    }
   },
   "outputs": [],
   "source": [
    "record_no_n_deivery_date=pd.DataFrame()"
   ]
  },
  {
   "cell_type": "code",
   "execution_count": 379,
   "id": "42a3565c",
   "metadata": {
    "ExecuteTime": {
     "end_time": "2021-11-03T23:03:11.678303Z",
     "start_time": "2021-11-03T23:03:11.671949Z"
    }
   },
   "outputs": [],
   "source": [
    "record_no_n_deivery_date['record_number']=tdf_record_number"
   ]
  },
  {
   "cell_type": "code",
   "execution_count": 380,
   "id": "0e4c6130",
   "metadata": {
    "ExecuteTime": {
     "end_time": "2021-11-03T23:05:08.582238Z",
     "start_time": "2021-11-03T23:05:08.577787Z"
    }
   },
   "outputs": [],
   "source": [
    "record_no_n_deivery_date['deivery_date']=test_deivery_date"
   ]
  },
  {
   "cell_type": "code",
   "execution_count": 381,
   "id": "dce63f6d",
   "metadata": {
    "ExecuteTime": {
     "end_time": "2021-11-03T23:05:23.773235Z",
     "start_time": "2021-11-03T23:05:23.757252Z"
    }
   },
   "outputs": [
    {
     "data": {
      "text/html": [
       "<div>\n",
       "<style scoped>\n",
       "    .dataframe tbody tr th:only-of-type {\n",
       "        vertical-align: middle;\n",
       "    }\n",
       "\n",
       "    .dataframe tbody tr th {\n",
       "        vertical-align: top;\n",
       "    }\n",
       "\n",
       "    .dataframe thead th {\n",
       "        text-align: right;\n",
       "    }\n",
       "</style>\n",
       "<table border=\"1\" class=\"dataframe\">\n",
       "  <thead>\n",
       "    <tr style=\"text-align: right;\">\n",
       "      <th></th>\n",
       "      <th>record_number</th>\n",
       "      <th>deivery_date</th>\n",
       "    </tr>\n",
       "  </thead>\n",
       "  <tbody>\n",
       "    <tr>\n",
       "      <th>0</th>\n",
       "      <td>16377733</td>\n",
       "      <td>2019-12-07</td>\n",
       "    </tr>\n",
       "    <tr>\n",
       "      <th>1</th>\n",
       "      <td>16129562</td>\n",
       "      <td>2019-11-28</td>\n",
       "    </tr>\n",
       "    <tr>\n",
       "      <th>2</th>\n",
       "      <td>15452689</td>\n",
       "      <td>2019-12-14</td>\n",
       "    </tr>\n",
       "    <tr>\n",
       "      <th>3</th>\n",
       "      <td>16932805</td>\n",
       "      <td>2019-11-28</td>\n",
       "    </tr>\n",
       "    <tr>\n",
       "      <th>4</th>\n",
       "      <td>16374203</td>\n",
       "      <td>2019-12-19</td>\n",
       "    </tr>\n",
       "  </tbody>\n",
       "</table>\n",
       "</div>"
      ],
      "text/plain": [
       "   record_number deivery_date\n",
       "0       16377733   2019-12-07\n",
       "1       16129562   2019-11-28\n",
       "2       15452689   2019-12-14\n",
       "3       16932805   2019-11-28\n",
       "4       16374203   2019-12-19"
      ]
     },
     "execution_count": 381,
     "metadata": {},
     "output_type": "execute_result"
    }
   ],
   "source": [
    "record_no_n_deivery_date.head()"
   ]
  },
  {
   "cell_type": "code",
   "execution_count": 382,
   "id": "fa6d8a3f",
   "metadata": {
    "ExecuteTime": {
     "end_time": "2021-11-03T23:10:50.531264Z",
     "start_time": "2021-11-03T23:10:50.377318Z"
    }
   },
   "outputs": [],
   "source": [
    "record_no_n_deivery_date.to_csv('deivery_date_testdata.csv', encoding='utf-8', index=False)"
   ]
  },
  {
   "cell_type": "code",
   "execution_count": null,
   "id": "d08705ef",
   "metadata": {},
   "outputs": [],
   "source": []
  }
 ],
 "metadata": {
  "kernelspec": {
   "display_name": "Python 3 (ipykernel)",
   "language": "python",
   "name": "python3"
  },
  "language_info": {
   "codemirror_mode": {
    "name": "ipython",
    "version": 3
   },
   "file_extension": ".py",
   "mimetype": "text/x-python",
   "name": "python",
   "nbconvert_exporter": "python",
   "pygments_lexer": "ipython3",
   "version": "3.9.7"
  },
  "toc": {
   "base_numbering": 1,
   "nav_menu": {},
   "number_sections": true,
   "sideBar": true,
   "skip_h1_title": false,
   "title_cell": "Table of Contents",
   "title_sidebar": "Contents",
   "toc_cell": false,
   "toc_position": {},
   "toc_section_display": true,
   "toc_window_display": false
  }
 },
 "nbformat": 4,
 "nbformat_minor": 5
}
