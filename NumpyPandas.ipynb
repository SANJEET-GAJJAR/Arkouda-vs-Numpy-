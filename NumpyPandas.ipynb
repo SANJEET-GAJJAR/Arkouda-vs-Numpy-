{
 "cells": [
  {
   "cell_type": "code",
   "execution_count": 1,
   "id": "b38f67b2",
   "metadata": {
    "ExecuteTime": {
     "end_time": "2021-11-03T20:46:11.968216Z",
     "start_time": "2021-11-03T20:46:11.094389Z"
    }
   },
   "outputs": [],
   "source": [
    "import numpy as np\n",
    "import pandas as pd\n"
   ]
  },
  {
   "cell_type": "code",
   "execution_count": 2,
   "id": "679f262c",
   "metadata": {
    "ExecuteTime": {
     "end_time": "2021-11-03T20:46:17.171630Z",
     "start_time": "2021-11-03T20:46:16.708070Z"
    }
   },
   "outputs": [],
   "source": [
    "data=pd.read_csv(\"Sample_1.csv\")"
   ]
  },
  {
   "cell_type": "code",
   "execution_count": 3,
   "id": "3d081634",
   "metadata": {
    "ExecuteTime": {
     "end_time": "2021-11-03T20:46:20.071991Z",
     "start_time": "2021-11-03T20:46:20.020864Z"
    }
   },
   "outputs": [
    {
     "data": {
      "text/html": [
       "<div>\n",
       "<style scoped>\n",
       "    .dataframe tbody tr th:only-of-type {\n",
       "        vertical-align: middle;\n",
       "    }\n",
       "\n",
       "    .dataframe tbody tr th {\n",
       "        vertical-align: top;\n",
       "    }\n",
       "\n",
       "    .dataframe thead th {\n",
       "        text-align: right;\n",
       "    }\n",
       "</style>\n",
       "<table border=\"1\" class=\"dataframe\">\n",
       "  <thead>\n",
       "    <tr style=\"text-align: right;\">\n",
       "      <th></th>\n",
       "      <th>Unnamed: 0</th>\n",
       "      <th>b2c_c2c</th>\n",
       "      <th>seller_id</th>\n",
       "      <th>declared_handling_days</th>\n",
       "      <th>acceptance_scan_timestamp</th>\n",
       "      <th>shipment_method_id</th>\n",
       "      <th>shipping_fee</th>\n",
       "      <th>carrier_min_estimate</th>\n",
       "      <th>carrier_max_estimate</th>\n",
       "      <th>item_zip</th>\n",
       "      <th>buyer_zip</th>\n",
       "      <th>category_id</th>\n",
       "      <th>item_price</th>\n",
       "      <th>quantity</th>\n",
       "      <th>payment_datetime</th>\n",
       "      <th>delivery_date</th>\n",
       "      <th>weight</th>\n",
       "      <th>weight_units</th>\n",
       "      <th>package_size</th>\n",
       "      <th>record_number</th>\n",
       "    </tr>\n",
       "  </thead>\n",
       "  <tbody>\n",
       "    <tr>\n",
       "      <th>0</th>\n",
       "      <td>4717918</td>\n",
       "      <td>C2C</td>\n",
       "      <td>589222</td>\n",
       "      <td>0.0</td>\n",
       "      <td>2019-07-08 17:35:00.000-04:00</td>\n",
       "      <td>0</td>\n",
       "      <td>0.0</td>\n",
       "      <td>3</td>\n",
       "      <td>5</td>\n",
       "      <td>44011</td>\n",
       "      <td>76249</td>\n",
       "      <td>6</td>\n",
       "      <td>35.99</td>\n",
       "      <td>1</td>\n",
       "      <td>2019-07-06 21:30:12.000-04:00</td>\n",
       "      <td>2019-07-10</td>\n",
       "      <td>7</td>\n",
       "      <td>1</td>\n",
       "      <td>PACKAGE_THICK_ENVELOPE</td>\n",
       "      <td>4717919</td>\n",
       "    </tr>\n",
       "    <tr>\n",
       "      <th>1</th>\n",
       "      <td>1864327</td>\n",
       "      <td>B2C</td>\n",
       "      <td>72389</td>\n",
       "      <td>1.0</td>\n",
       "      <td>2019-01-03 23:05:00.000-05:00</td>\n",
       "      <td>1</td>\n",
       "      <td>0.0</td>\n",
       "      <td>2</td>\n",
       "      <td>5</td>\n",
       "      <td>40517</td>\n",
       "      <td>29440</td>\n",
       "      <td>10</td>\n",
       "      <td>349.99</td>\n",
       "      <td>2</td>\n",
       "      <td>2019-01-02 17:23:19.000-05:00</td>\n",
       "      <td>2019-01-07</td>\n",
       "      <td>176</td>\n",
       "      <td>1</td>\n",
       "      <td>PACKAGE_THICK_ENVELOPE</td>\n",
       "      <td>1864328</td>\n",
       "    </tr>\n",
       "    <tr>\n",
       "      <th>2</th>\n",
       "      <td>2268744</td>\n",
       "      <td>C2C</td>\n",
       "      <td>380983</td>\n",
       "      <td>2.0</td>\n",
       "      <td>2018-11-15 13:53:00.000-08:00</td>\n",
       "      <td>1</td>\n",
       "      <td>12.0</td>\n",
       "      <td>2</td>\n",
       "      <td>5</td>\n",
       "      <td>92154</td>\n",
       "      <td>84405</td>\n",
       "      <td>6</td>\n",
       "      <td>102.50</td>\n",
       "      <td>1</td>\n",
       "      <td>2018-11-11 18:32:16.000-08:00</td>\n",
       "      <td>2018-11-19</td>\n",
       "      <td>32</td>\n",
       "      <td>1</td>\n",
       "      <td>PACKAGE_THICK_ENVELOPE</td>\n",
       "      <td>2268745</td>\n",
       "    </tr>\n",
       "    <tr>\n",
       "      <th>3</th>\n",
       "      <td>6067012</td>\n",
       "      <td>B2C</td>\n",
       "      <td>6092</td>\n",
       "      <td>5.0</td>\n",
       "      <td>2018-05-04 12:38:00.000-05:00</td>\n",
       "      <td>1</td>\n",
       "      <td>10.5</td>\n",
       "      <td>2</td>\n",
       "      <td>5</td>\n",
       "      <td>54947</td>\n",
       "      <td>98045</td>\n",
       "      <td>10</td>\n",
       "      <td>18.44</td>\n",
       "      <td>1</td>\n",
       "      <td>2018-05-02 19:14:09.000-05:00</td>\n",
       "      <td>2018-05-07</td>\n",
       "      <td>0</td>\n",
       "      <td>1</td>\n",
       "      <td>PACKAGE_THICK_ENVELOPE</td>\n",
       "      <td>6067013</td>\n",
       "    </tr>\n",
       "    <tr>\n",
       "      <th>4</th>\n",
       "      <td>11799209</td>\n",
       "      <td>B2C</td>\n",
       "      <td>47630</td>\n",
       "      <td>5.0</td>\n",
       "      <td>2019-02-28 11:46:00.000-05:00</td>\n",
       "      <td>0</td>\n",
       "      <td>8.4</td>\n",
       "      <td>3</td>\n",
       "      <td>5</td>\n",
       "      <td>48329</td>\n",
       "      <td>01075</td>\n",
       "      <td>3</td>\n",
       "      <td>4.55</td>\n",
       "      <td>1</td>\n",
       "      <td>2019-02-23 21:14:05.000-05:00</td>\n",
       "      <td>2019-03-04</td>\n",
       "      <td>16</td>\n",
       "      <td>1</td>\n",
       "      <td>PACKAGE_THICK_ENVELOPE</td>\n",
       "      <td>11799210</td>\n",
       "    </tr>\n",
       "  </tbody>\n",
       "</table>\n",
       "</div>"
      ],
      "text/plain": [
       "   Unnamed: 0 b2c_c2c  seller_id  declared_handling_days  \\\n",
       "0     4717918     C2C     589222                     0.0   \n",
       "1     1864327     B2C      72389                     1.0   \n",
       "2     2268744     C2C     380983                     2.0   \n",
       "3     6067012     B2C       6092                     5.0   \n",
       "4    11799209     B2C      47630                     5.0   \n",
       "\n",
       "       acceptance_scan_timestamp  shipment_method_id  shipping_fee  \\\n",
       "0  2019-07-08 17:35:00.000-04:00                   0           0.0   \n",
       "1  2019-01-03 23:05:00.000-05:00                   1           0.0   \n",
       "2  2018-11-15 13:53:00.000-08:00                   1          12.0   \n",
       "3  2018-05-04 12:38:00.000-05:00                   1          10.5   \n",
       "4  2019-02-28 11:46:00.000-05:00                   0           8.4   \n",
       "\n",
       "   carrier_min_estimate  carrier_max_estimate item_zip buyer_zip  category_id  \\\n",
       "0                     3                     5    44011     76249            6   \n",
       "1                     2                     5    40517     29440           10   \n",
       "2                     2                     5    92154     84405            6   \n",
       "3                     2                     5    54947     98045           10   \n",
       "4                     3                     5    48329     01075            3   \n",
       "\n",
       "   item_price  quantity               payment_datetime delivery_date  weight  \\\n",
       "0       35.99         1  2019-07-06 21:30:12.000-04:00    2019-07-10       7   \n",
       "1      349.99         2  2019-01-02 17:23:19.000-05:00    2019-01-07     176   \n",
       "2      102.50         1  2018-11-11 18:32:16.000-08:00    2018-11-19      32   \n",
       "3       18.44         1  2018-05-02 19:14:09.000-05:00    2018-05-07       0   \n",
       "4        4.55         1  2019-02-23 21:14:05.000-05:00    2019-03-04      16   \n",
       "\n",
       "   weight_units            package_size  record_number  \n",
       "0             1  PACKAGE_THICK_ENVELOPE        4717919  \n",
       "1             1  PACKAGE_THICK_ENVELOPE        1864328  \n",
       "2             1  PACKAGE_THICK_ENVELOPE        2268745  \n",
       "3             1  PACKAGE_THICK_ENVELOPE        6067013  \n",
       "4             1  PACKAGE_THICK_ENVELOPE       11799210  "
      ]
     },
     "execution_count": 3,
     "metadata": {},
     "output_type": "execute_result"
    }
   ],
   "source": [
    "data.head()"
   ]
  },
  {
   "cell_type": "code",
   "execution_count": 4,
   "id": "6110fa21",
   "metadata": {
    "ExecuteTime": {
     "end_time": "2021-11-03T23:31:00.654465Z",
     "start_time": "2021-11-03T23:31:00.589117Z"
    }
   },
   "outputs": [
    {
     "name": "stdout",
     "output_type": "stream",
     "text": [
      "<class 'pandas.core.frame.DataFrame'>\n",
      "RangeIndex: 60000 entries, 0 to 59999\n",
      "Data columns (total 20 columns):\n",
      " #   Column                     Non-Null Count  Dtype  \n",
      "---  ------                     --------------  -----  \n",
      " 0   Unnamed: 0                 60000 non-null  int64  \n",
      " 1   b2c_c2c                    60000 non-null  object \n",
      " 2   seller_id                  60000 non-null  int64  \n",
      " 3   declared_handling_days     57261 non-null  float64\n",
      " 4   acceptance_scan_timestamp  60000 non-null  object \n",
      " 5   shipment_method_id         60000 non-null  int64  \n",
      " 6   shipping_fee               60000 non-null  float64\n",
      " 7   carrier_min_estimate       60000 non-null  int64  \n",
      " 8   carrier_max_estimate       60000 non-null  int64  \n",
      " 9   item_zip                   60000 non-null  object \n",
      " 10  buyer_zip                  60000 non-null  object \n",
      " 11  category_id                60000 non-null  int64  \n",
      " 12  item_price                 60000 non-null  float64\n",
      " 13  quantity                   60000 non-null  int64  \n",
      " 14  payment_datetime           60000 non-null  object \n",
      " 15  delivery_date              60000 non-null  object \n",
      " 16  weight                     60000 non-null  int64  \n",
      " 17  weight_units               60000 non-null  int64  \n",
      " 18  package_size               60000 non-null  object \n",
      " 19  record_number              60000 non-null  int64  \n",
      "dtypes: float64(3), int64(10), object(7)\n",
      "memory usage: 9.2+ MB\n"
     ]
    }
   ],
   "source": [
    "data.info()\n",
    "\n"
   ]
  },
  {
   "cell_type": "code",
   "execution_count": 5,
   "id": "93944396",
   "metadata": {
    "ExecuteTime": {
     "end_time": "2021-11-03T20:46:31.646848Z",
     "start_time": "2021-11-03T20:46:31.405150Z"
    }
   },
   "outputs": [],
   "source": [
    "data2=data.dropna()"
   ]
  },
  {
   "cell_type": "code",
   "execution_count": 6,
   "id": "e37ef002",
   "metadata": {},
   "outputs": [
    {
     "data": {
      "text/plain": [
       "(57261, 20)"
      ]
     },
     "execution_count": 6,
     "metadata": {},
     "output_type": "execute_result"
    }
   ],
   "source": [
    "data2.shape"
   ]
  },
  {
   "cell_type": "code",
   "execution_count": 7,
   "id": "51758236",
   "metadata": {
    "ExecuteTime": {
     "end_time": "2021-11-03T20:46:55.374914Z",
     "start_time": "2021-11-03T20:46:55.361860Z"
    }
   },
   "outputs": [
    {
     "data": {
      "text/plain": [
       "PACKAGE_THICK_ENVELOPE    48233\n",
       "NONE                       4099\n",
       "LETTER                     3475\n",
       "LARGE_ENVELOPE              797\n",
       "LARGE_PACKAGE               657\n",
       "Name: package_size, dtype: int64"
      ]
     },
     "execution_count": 7,
     "metadata": {},
     "output_type": "execute_result"
    }
   ],
   "source": [
    "data2['package_size'].value_counts()"
   ]
  },
  {
   "cell_type": "code",
   "execution_count": 8,
   "id": "0c28eb6c",
   "metadata": {
    "ExecuteTime": {
     "end_time": "2021-11-03T20:49:18.699299Z",
     "start_time": "2021-11-03T20:49:18.696222Z"
    }
   },
   "outputs": [
    {
     "name": "stderr",
     "output_type": "stream",
     "text": [
      "C:\\Users\\prate\\anaconda3\\lib\\site-packages\\pandas\\core\\generic.py:6619: SettingWithCopyWarning: \n",
      "A value is trying to be set on a copy of a slice from a DataFrame\n",
      "\n",
      "See the caveats in the documentation: https://pandas.pydata.org/pandas-docs/stable/user_guide/indexing.html#returning-a-view-versus-a-copy\n",
      "  return self._update_inplace(result)\n"
     ]
    }
   ],
   "source": [
    "# Making the package size from str to int\n",
    " \n",
    "data2['package_size'].replace(to_replace=['PACKAGE_THICK_ENVELOPE','NONE','LETTER','LARGE_ENVELOPE','LARGE_PACKAGE'],value=[5,4,3,2,1],inplace=True)"
   ]
  },
  {
   "cell_type": "code",
   "execution_count": 9,
   "id": "1d0c3307",
   "metadata": {},
   "outputs": [
    {
     "data": {
      "text/plain": [
       "B2C    42632\n",
       "C2C    17368\n",
       "Name: b2c_c2c, dtype: int64"
      ]
     },
     "execution_count": 9,
     "metadata": {},
     "output_type": "execute_result"
    }
   ],
   "source": [
    "data['b2c_c2c'].value_counts()"
   ]
  },
  {
   "cell_type": "code",
   "execution_count": 10,
   "id": "3c1c8885",
   "metadata": {
    "ExecuteTime": {
     "end_time": "2021-11-03T20:50:26.051734Z",
     "start_time": "2021-11-03T20:50:26.047451Z"
    }
   },
   "outputs": [],
   "source": [
    "# Making the 'b2c_c2c' from str to int\n",
    "\n",
    "data2['b2c_c2c'].replace(to_replace=['C2C','B2C'],value=[1,2],inplace=True)"
   ]
  },
  {
   "cell_type": "code",
   "execution_count": 11,
   "id": "bd98a792",
   "metadata": {
    "ExecuteTime": {
     "end_time": "2021-11-03T20:52:31.685805Z",
     "start_time": "2021-11-03T20:52:31.508534Z"
    }
   },
   "outputs": [
    {
     "name": "stderr",
     "output_type": "stream",
     "text": [
      "C:\\Users\\prate\\anaconda3\\lib\\site-packages\\ipykernel_launcher.py:4: SettingWithCopyWarning: \n",
      "A value is trying to be set on a copy of a slice from a DataFrame.\n",
      "Try using .loc[row_indexer,col_indexer] = value instead\n",
      "\n",
      "See the caveats in the documentation: https://pandas.pydata.org/pandas-docs/stable/user_guide/indexing.html#returning-a-view-versus-a-copy\n",
      "  after removing the cwd from sys.path.\n"
     ]
    }
   ],
   "source": [
    "# filtering 'acceptance_scan_timestamp' to only date type\n",
    "import datetime\n",
    "\n",
    "data2['acceptance_scan_timestamp']= data2['acceptance_scan_timestamp'].str.split(\" \").str[0]\n"
   ]
  },
  {
   "cell_type": "code",
   "execution_count": 12,
   "id": "79c98163",
   "metadata": {
    "ExecuteTime": {
     "end_time": "2021-11-03T20:53:21.363192Z",
     "start_time": "2021-11-03T20:53:21.269259Z"
    }
   },
   "outputs": [
    {
     "name": "stderr",
     "output_type": "stream",
     "text": [
      "C:\\Users\\prate\\anaconda3\\lib\\site-packages\\pandas\\core\\indexing.py:1773: SettingWithCopyWarning: \n",
      "A value is trying to be set on a copy of a slice from a DataFrame.\n",
      "Try using .loc[row_indexer,col_indexer] = value instead\n",
      "\n",
      "See the caveats in the documentation: https://pandas.pydata.org/pandas-docs/stable/user_guide/indexing.html#returning-a-view-versus-a-copy\n",
      "  self._setitem_single_column(ilocs[0], value, pi)\n"
     ]
    }
   ],
   "source": [
    "# Makeing it date object type\n",
    "data2['acceptance_scan_timestamp'].head()\n",
    "data2.loc[:,'acceptance_scan_timestamp']= pd.to_datetime(data2['acceptance_scan_timestamp']).dt.date"
   ]
  },
  {
   "cell_type": "code",
   "execution_count": 13,
   "id": "2e92cac2",
   "metadata": {
    "ExecuteTime": {
     "end_time": "2021-11-03T20:53:28.801994Z",
     "start_time": "2021-11-03T20:53:28.794424Z"
    }
   },
   "outputs": [
    {
     "data": {
      "text/plain": [
       "dtype('O')"
      ]
     },
     "execution_count": 13,
     "metadata": {},
     "output_type": "execute_result"
    }
   ],
   "source": [
    "data2['acceptance_scan_timestamp'].dtype"
   ]
  },
  {
   "cell_type": "code",
   "execution_count": 14,
   "id": "e3e3d7b6",
   "metadata": {
    "ExecuteTime": {
     "end_time": "2021-11-03T20:54:28.261306Z",
     "start_time": "2021-11-03T20:54:28.078401Z"
    }
   },
   "outputs": [
    {
     "data": {
      "text/plain": [
       "0    2019-07-06\n",
       "1    2019-01-02\n",
       "2    2018-11-11\n",
       "3    2018-05-02\n",
       "4    2019-02-23\n",
       "Name: payment_datetime, dtype: object"
      ]
     },
     "execution_count": 14,
     "metadata": {},
     "output_type": "execute_result"
    }
   ],
   "source": [
    "# Makeing 'payment_datetime' TO date object type\n",
    "data['payment_datetime']= data['payment_datetime'].str.split(\" \").str[0]\n",
    "\n",
    "\n",
    "data['payment_datetime'].head()"
   ]
  },
  {
   "cell_type": "code",
   "execution_count": 15,
   "id": "713ecc62",
   "metadata": {
    "ExecuteTime": {
     "end_time": "2021-11-03T20:55:07.309833Z",
     "start_time": "2021-11-03T20:55:07.292802Z"
    }
   },
   "outputs": [
    {
     "name": "stderr",
     "output_type": "stream",
     "text": [
      "C:\\Users\\prate\\anaconda3\\lib\\site-packages\\ipykernel_launcher.py:1: SettingWithCopyWarning: \n",
      "A value is trying to be set on a copy of a slice from a DataFrame.\n",
      "Try using .loc[row_indexer,col_indexer] = value instead\n",
      "\n",
      "See the caveats in the documentation: https://pandas.pydata.org/pandas-docs/stable/user_guide/indexing.html#returning-a-view-versus-a-copy\n",
      "  \"\"\"Entry point for launching an IPython kernel.\n"
     ]
    }
   ],
   "source": [
    "data2['payment_datetime']=data['payment_datetime']"
   ]
  },
  {
   "cell_type": "code",
   "execution_count": 16,
   "id": "2d93363c",
   "metadata": {
    "ExecuteTime": {
     "end_time": "2021-11-03T20:55:16.717747Z",
     "start_time": "2021-11-03T20:55:16.645900Z"
    }
   },
   "outputs": [],
   "source": [
    "data2.loc[:,'payment_datetime']= pd.to_datetime(data2['payment_datetime']).dt.date"
   ]
  },
  {
   "cell_type": "code",
   "execution_count": 17,
   "id": "81cf5165",
   "metadata": {
    "ExecuteTime": {
     "end_time": "2021-11-03T20:57:45.744320Z",
     "start_time": "2021-11-03T20:57:45.544081Z"
    }
   },
   "outputs": [
    {
     "name": "stderr",
     "output_type": "stream",
     "text": [
      "C:\\Users\\prate\\anaconda3\\lib\\site-packages\\ipykernel_launcher.py:2: SettingWithCopyWarning: \n",
      "A value is trying to be set on a copy of a slice from a DataFrame.\n",
      "Try using .loc[row_indexer,col_indexer] = value instead\n",
      "\n",
      "See the caveats in the documentation: https://pandas.pydata.org/pandas-docs/stable/user_guide/indexing.html#returning-a-view-versus-a-copy\n",
      "  \n"
     ]
    }
   ],
   "source": [
    "# CALCULATE DAYS FROM MINUSING TO 'payment_datetime' FROM 'acceptance_scan_timestamp'\n",
    "data2['del_to_pay'] = (data2['acceptance_scan_timestamp'] - data2['payment_datetime']).dt.days"
   ]
  },
  {
   "cell_type": "code",
   "execution_count": 18,
   "id": "c00300e9",
   "metadata": {
    "ExecuteTime": {
     "end_time": "2021-11-03T20:58:28.500350Z",
     "start_time": "2021-11-03T20:58:28.496658Z"
    }
   },
   "outputs": [],
   "source": [
    "data3=data2"
   ]
  },
  {
   "cell_type": "code",
   "execution_count": 19,
   "id": "453919d5",
   "metadata": {
    "ExecuteTime": {
     "end_time": "2021-11-03T20:58:32.754493Z",
     "start_time": "2021-11-03T20:58:32.707025Z"
    }
   },
   "outputs": [],
   "source": [
    "data3.loc[:,'delivery_date']= pd.to_datetime(data3['delivery_date']).dt.date"
   ]
  },
  {
   "cell_type": "code",
   "execution_count": 20,
   "id": "f02e29a1",
   "metadata": {
    "ExecuteTime": {
     "end_time": "2021-11-03T20:58:39.825498Z",
     "start_time": "2021-11-03T20:58:39.656367Z"
    }
   },
   "outputs": [
    {
     "name": "stderr",
     "output_type": "stream",
     "text": [
      "C:\\Users\\prate\\anaconda3\\lib\\site-packages\\ipykernel_launcher.py:2: SettingWithCopyWarning: \n",
      "A value is trying to be set on a copy of a slice from a DataFrame.\n",
      "Try using .loc[row_indexer,col_indexer] = value instead\n",
      "\n",
      "See the caveats in the documentation: https://pandas.pydata.org/pandas-docs/stable/user_guide/indexing.html#returning-a-view-versus-a-copy\n",
      "  \n"
     ]
    }
   ],
   "source": [
    "# CALCULATE DAYS FROM MINUSING TO 'payment_datetime' FROM ''delivery_date'\n",
    "data3['pay_to_del'] = (data3['delivery_date'] - data3['payment_datetime']).dt.days"
   ]
  },
  {
   "cell_type": "code",
   "execution_count": 21,
   "id": "6120d47b",
   "metadata": {
    "ExecuteTime": {
     "end_time": "2021-11-03T21:00:27.429339Z",
     "start_time": "2021-11-03T21:00:23.706163Z"
    }
   },
   "outputs": [
    {
     "name": "stdout",
     "output_type": "stream",
     "text": [
      "Requirement already satisfied: pgeocode in c:\\users\\prate\\anaconda3\\lib\\site-packages (0.3.0)\n",
      "Requirement already satisfied: requests in c:\\users\\prate\\anaconda3\\lib\\site-packages (from pgeocode) (2.22.0)\n",
      "Requirement already satisfied: numpy in c:\\users\\prate\\anaconda3\\lib\\site-packages (from pgeocode) (1.19.5)\n",
      "Requirement already satisfied: pandas in c:\\users\\prate\\anaconda3\\lib\\site-packages (from pgeocode) (1.3.3)\n",
      "Requirement already satisfied: idna<2.9,>=2.5 in c:\\users\\prate\\anaconda3\\lib\\site-packages (from requests->pgeocode) (2.8)\n",
      "Requirement already satisfied: urllib3!=1.25.0,!=1.25.1,<1.26,>=1.21.1 in c:\\users\\prate\\anaconda3\\lib\\site-packages (from requests->pgeocode) (1.25.8)\n",
      "Requirement already satisfied: certifi>=2017.4.17 in c:\\users\\prate\\anaconda3\\lib\\site-packages (from requests->pgeocode) (2019.11.28)\n",
      "Requirement already satisfied: chardet<3.1.0,>=3.0.2 in c:\\users\\prate\\anaconda3\\lib\\site-packages (from requests->pgeocode) (3.0.4)\n",
      "Requirement already satisfied: python-dateutil>=2.7.3 in c:\\users\\prate\\anaconda3\\lib\\site-packages (from pandas->pgeocode) (2.8.1)\n",
      "Requirement already satisfied: pytz>=2017.3 in c:\\users\\prate\\anaconda3\\lib\\site-packages (from pandas->pgeocode) (2019.3)\n",
      "Requirement already satisfied: six>=1.5 in c:\\users\\prate\\anaconda3\\lib\\site-packages (from python-dateutil>=2.7.3->pandas->pgeocode) (1.15.0)\n",
      "Note: you may need to restart the kernel to use updated packages.\n"
     ]
    }
   ],
   "source": [
    "pip install pgeocode\n"
   ]
  },
  {
   "cell_type": "code",
   "execution_count": 22,
   "id": "f3b3d0df",
   "metadata": {
    "ExecuteTime": {
     "end_time": "2021-11-03T21:00:40.241453Z",
     "start_time": "2021-11-03T21:00:33.112929Z"
    }
   },
   "outputs": [
    {
     "name": "stderr",
     "output_type": "stream",
     "text": [
      "C:\\Users\\prate\\anaconda3\\lib\\site-packages\\ipykernel_launcher.py:8: SettingWithCopyWarning: \n",
      "A value is trying to be set on a copy of a slice from a DataFrame.\n",
      "Try using .loc[row_indexer,col_indexer] = value instead\n",
      "\n",
      "See the caveats in the documentation: https://pandas.pydata.org/pandas-docs/stable/user_guide/indexing.html#returning-a-view-versus-a-copy\n",
      "  \n"
     ]
    }
   ],
   "source": [
    "# GET DISTANCE FROM ZIP CODES\n",
    "import pgeocode\n",
    "def get_distance_zip(x, y):\n",
    "    usa_zipcodes = pgeocode.GeoDistance('us')\n",
    "    distance_in_kms = usa_zipcodes.query_postal_code(x.values, y.values)\n",
    "    return distance_in_kms\n",
    "\n",
    "data3['Distance'] = get_distance_zip(data3['item_zip'], data3['buyer_zip'])"
   ]
  },
  {
   "cell_type": "code",
   "execution_count": 23,
   "id": "1af171e2",
   "metadata": {},
   "outputs": [
    {
     "data": {
      "text/plain": [
       "0    1621.567281\n",
       "1     687.747533\n",
       "2    1057.383292\n",
       "3    2567.202433\n",
       "4     887.293984\n",
       "Name: Distance, dtype: float64"
      ]
     },
     "execution_count": 23,
     "metadata": {},
     "output_type": "execute_result"
    }
   ],
   "source": [
    "data3['Distance'].head()"
   ]
  },
  {
   "cell_type": "code",
   "execution_count": 24,
   "id": "3ac640d7",
   "metadata": {
    "ExecuteTime": {
     "end_time": "2021-11-03T21:00:47.799554Z",
     "start_time": "2021-11-03T21:00:47.795805Z"
    }
   },
   "outputs": [],
   "source": [
    "f1df= data3"
   ]
  },
  {
   "cell_type": "code",
   "execution_count": null,
   "id": "c84ef5d2",
   "metadata": {},
   "outputs": [],
   "source": []
  },
  {
   "cell_type": "code",
   "execution_count": 25,
   "id": "f7823e02",
   "metadata": {
    "ExecuteTime": {
     "end_time": "2021-11-03T21:00:56.878909Z",
     "start_time": "2021-11-03T21:00:56.871941Z"
    }
   },
   "outputs": [
    {
     "name": "stderr",
     "output_type": "stream",
     "text": [
      "C:\\Users\\prate\\anaconda3\\lib\\site-packages\\ipykernel_launcher.py:1: SettingWithCopyWarning: \n",
      "A value is trying to be set on a copy of a slice from a DataFrame.\n",
      "Try using .loc[row_indexer,col_indexer] = value instead\n",
      "\n",
      "See the caveats in the documentation: https://pandas.pydata.org/pandas-docs/stable/user_guide/indexing.html#returning-a-view-versus-a-copy\n",
      "  \"\"\"Entry point for launching an IPython kernel.\n",
      "C:\\Users\\prate\\anaconda3\\lib\\site-packages\\ipykernel_launcher.py:2: SettingWithCopyWarning: \n",
      "A value is trying to be set on a copy of a slice from a DataFrame.\n",
      "Try using .loc[row_indexer,col_indexer] = value instead\n",
      "\n",
      "See the caveats in the documentation: https://pandas.pydata.org/pandas-docs/stable/user_guide/indexing.html#returning-a-view-versus-a-copy\n",
      "  \n"
     ]
    }
   ],
   "source": [
    "f1df['pay_to_acctt']= f1df['del_to_pay']\n",
    "f1df['del_days']= f1df['pay_to_del']\n"
   ]
  },
  {
   "cell_type": "code",
   "execution_count": 26,
   "id": "4ee0ebfc",
   "metadata": {
    "ExecuteTime": {
     "end_time": "2021-11-03T21:01:03.837015Z",
     "start_time": "2021-11-03T21:01:03.833288Z"
    }
   },
   "outputs": [],
   "source": [
    "final_df =f1df"
   ]
  },
  {
   "cell_type": "code",
   "execution_count": 27,
   "id": "ebde07d6",
   "metadata": {
    "ExecuteTime": {
     "end_time": "2021-11-03T21:02:26.734292Z",
     "start_time": "2021-11-03T21:02:26.709551Z"
    }
   },
   "outputs": [],
   "source": [
    "# DROP FEATURES THATS ARE USED IN DIFFERENT WAYS\n",
    "final_df = final_df.drop(['seller_id', 'acceptance_scan_timestamp','item_zip','record_number'], axis=1)"
   ]
  },
  {
   "cell_type": "code",
   "execution_count": null,
   "id": "f8699bd7",
   "metadata": {},
   "outputs": [],
   "source": []
  },
  {
   "cell_type": "code",
   "execution_count": 28,
   "id": "a6302990",
   "metadata": {},
   "outputs": [
    {
     "data": {
      "text/html": [
       "<div>\n",
       "<style scoped>\n",
       "    .dataframe tbody tr th:only-of-type {\n",
       "        vertical-align: middle;\n",
       "    }\n",
       "\n",
       "    .dataframe tbody tr th {\n",
       "        vertical-align: top;\n",
       "    }\n",
       "\n",
       "    .dataframe thead th {\n",
       "        text-align: right;\n",
       "    }\n",
       "</style>\n",
       "<table border=\"1\" class=\"dataframe\">\n",
       "  <thead>\n",
       "    <tr style=\"text-align: right;\">\n",
       "      <th></th>\n",
       "      <th>Unnamed: 0</th>\n",
       "      <th>b2c_c2c</th>\n",
       "      <th>declared_handling_days</th>\n",
       "      <th>shipment_method_id</th>\n",
       "      <th>shipping_fee</th>\n",
       "      <th>carrier_min_estimate</th>\n",
       "      <th>carrier_max_estimate</th>\n",
       "      <th>buyer_zip</th>\n",
       "      <th>category_id</th>\n",
       "      <th>item_price</th>\n",
       "      <th>...</th>\n",
       "      <th>payment_datetime</th>\n",
       "      <th>delivery_date</th>\n",
       "      <th>weight</th>\n",
       "      <th>weight_units</th>\n",
       "      <th>package_size</th>\n",
       "      <th>del_to_pay</th>\n",
       "      <th>pay_to_del</th>\n",
       "      <th>Distance</th>\n",
       "      <th>pay_to_acctt</th>\n",
       "      <th>del_days</th>\n",
       "    </tr>\n",
       "  </thead>\n",
       "  <tbody>\n",
       "    <tr>\n",
       "      <th>0</th>\n",
       "      <td>4717918</td>\n",
       "      <td>1</td>\n",
       "      <td>0.0</td>\n",
       "      <td>0</td>\n",
       "      <td>0.0</td>\n",
       "      <td>3</td>\n",
       "      <td>5</td>\n",
       "      <td>76249</td>\n",
       "      <td>6</td>\n",
       "      <td>35.99</td>\n",
       "      <td>...</td>\n",
       "      <td>2019-07-06</td>\n",
       "      <td>2019-07-10</td>\n",
       "      <td>7</td>\n",
       "      <td>1</td>\n",
       "      <td>5</td>\n",
       "      <td>2</td>\n",
       "      <td>4</td>\n",
       "      <td>1621.567281</td>\n",
       "      <td>2</td>\n",
       "      <td>4</td>\n",
       "    </tr>\n",
       "    <tr>\n",
       "      <th>1</th>\n",
       "      <td>1864327</td>\n",
       "      <td>2</td>\n",
       "      <td>1.0</td>\n",
       "      <td>1</td>\n",
       "      <td>0.0</td>\n",
       "      <td>2</td>\n",
       "      <td>5</td>\n",
       "      <td>29440</td>\n",
       "      <td>10</td>\n",
       "      <td>349.99</td>\n",
       "      <td>...</td>\n",
       "      <td>2019-01-02</td>\n",
       "      <td>2019-01-07</td>\n",
       "      <td>176</td>\n",
       "      <td>1</td>\n",
       "      <td>5</td>\n",
       "      <td>1</td>\n",
       "      <td>5</td>\n",
       "      <td>687.747533</td>\n",
       "      <td>1</td>\n",
       "      <td>5</td>\n",
       "    </tr>\n",
       "    <tr>\n",
       "      <th>2</th>\n",
       "      <td>2268744</td>\n",
       "      <td>1</td>\n",
       "      <td>2.0</td>\n",
       "      <td>1</td>\n",
       "      <td>12.0</td>\n",
       "      <td>2</td>\n",
       "      <td>5</td>\n",
       "      <td>84405</td>\n",
       "      <td>6</td>\n",
       "      <td>102.50</td>\n",
       "      <td>...</td>\n",
       "      <td>2018-11-11</td>\n",
       "      <td>2018-11-19</td>\n",
       "      <td>32</td>\n",
       "      <td>1</td>\n",
       "      <td>5</td>\n",
       "      <td>4</td>\n",
       "      <td>8</td>\n",
       "      <td>1057.383292</td>\n",
       "      <td>4</td>\n",
       "      <td>8</td>\n",
       "    </tr>\n",
       "    <tr>\n",
       "      <th>3</th>\n",
       "      <td>6067012</td>\n",
       "      <td>2</td>\n",
       "      <td>5.0</td>\n",
       "      <td>1</td>\n",
       "      <td>10.5</td>\n",
       "      <td>2</td>\n",
       "      <td>5</td>\n",
       "      <td>98045</td>\n",
       "      <td>10</td>\n",
       "      <td>18.44</td>\n",
       "      <td>...</td>\n",
       "      <td>2018-05-02</td>\n",
       "      <td>2018-05-07</td>\n",
       "      <td>0</td>\n",
       "      <td>1</td>\n",
       "      <td>5</td>\n",
       "      <td>2</td>\n",
       "      <td>5</td>\n",
       "      <td>2567.202433</td>\n",
       "      <td>2</td>\n",
       "      <td>5</td>\n",
       "    </tr>\n",
       "    <tr>\n",
       "      <th>4</th>\n",
       "      <td>11799209</td>\n",
       "      <td>2</td>\n",
       "      <td>5.0</td>\n",
       "      <td>0</td>\n",
       "      <td>8.4</td>\n",
       "      <td>3</td>\n",
       "      <td>5</td>\n",
       "      <td>01075</td>\n",
       "      <td>3</td>\n",
       "      <td>4.55</td>\n",
       "      <td>...</td>\n",
       "      <td>2019-02-23</td>\n",
       "      <td>2019-03-04</td>\n",
       "      <td>16</td>\n",
       "      <td>1</td>\n",
       "      <td>5</td>\n",
       "      <td>5</td>\n",
       "      <td>9</td>\n",
       "      <td>887.293984</td>\n",
       "      <td>5</td>\n",
       "      <td>9</td>\n",
       "    </tr>\n",
       "  </tbody>\n",
       "</table>\n",
       "<p>5 rows × 21 columns</p>\n",
       "</div>"
      ],
      "text/plain": [
       "   Unnamed: 0  b2c_c2c  declared_handling_days  shipment_method_id  \\\n",
       "0     4717918        1                     0.0                   0   \n",
       "1     1864327        2                     1.0                   1   \n",
       "2     2268744        1                     2.0                   1   \n",
       "3     6067012        2                     5.0                   1   \n",
       "4    11799209        2                     5.0                   0   \n",
       "\n",
       "   shipping_fee  carrier_min_estimate  carrier_max_estimate buyer_zip  \\\n",
       "0           0.0                     3                     5     76249   \n",
       "1           0.0                     2                     5     29440   \n",
       "2          12.0                     2                     5     84405   \n",
       "3          10.5                     2                     5     98045   \n",
       "4           8.4                     3                     5     01075   \n",
       "\n",
       "   category_id  item_price  ...  payment_datetime delivery_date weight  \\\n",
       "0            6       35.99  ...        2019-07-06    2019-07-10      7   \n",
       "1           10      349.99  ...        2019-01-02    2019-01-07    176   \n",
       "2            6      102.50  ...        2018-11-11    2018-11-19     32   \n",
       "3           10       18.44  ...        2018-05-02    2018-05-07      0   \n",
       "4            3        4.55  ...        2019-02-23    2019-03-04     16   \n",
       "\n",
       "   weight_units  package_size  del_to_pay  pay_to_del     Distance  \\\n",
       "0             1             5           2           4  1621.567281   \n",
       "1             1             5           1           5   687.747533   \n",
       "2             1             5           4           8  1057.383292   \n",
       "3             1             5           2           5  2567.202433   \n",
       "4             1             5           5           9   887.293984   \n",
       "\n",
       "   pay_to_acctt  del_days  \n",
       "0             2         4  \n",
       "1             1         5  \n",
       "2             4         8  \n",
       "3             2         5  \n",
       "4             5         9  \n",
       "\n",
       "[5 rows x 21 columns]"
      ]
     },
     "execution_count": 28,
     "metadata": {},
     "output_type": "execute_result"
    }
   ],
   "source": [
    "final_df.head()"
   ]
  },
  {
   "cell_type": "code",
   "execution_count": 29,
   "id": "5342a2a6",
   "metadata": {
    "ExecuteTime": {
     "end_time": "2021-11-03T21:02:39.197551Z",
     "start_time": "2021-11-03T21:02:39.181690Z"
    }
   },
   "outputs": [],
   "source": [
    "\n",
    "final_df = final_df.drop(['del_to_pay','pay_to_del'], axis=1)\n"
   ]
  },
  {
   "cell_type": "code",
   "execution_count": 30,
   "id": "beed7645",
   "metadata": {
    "ExecuteTime": {
     "end_time": "2021-11-03T21:02:49.196399Z",
     "start_time": "2021-11-03T21:02:49.188001Z"
    }
   },
   "outputs": [],
   "source": [
    "final_df = final_df.drop(['Unnamed: 0','buyer_zip'], axis=1)"
   ]
  },
  {
   "cell_type": "code",
   "execution_count": 31,
   "id": "30f0e132",
   "metadata": {
    "ExecuteTime": {
     "end_time": "2021-11-03T21:04:16.865666Z",
     "start_time": "2021-11-03T21:04:16.652261Z"
    }
   },
   "outputs": [
    {
     "data": {
      "text/html": [
       "<div>\n",
       "<style scoped>\n",
       "    .dataframe tbody tr th:only-of-type {\n",
       "        vertical-align: middle;\n",
       "    }\n",
       "\n",
       "    .dataframe tbody tr th {\n",
       "        vertical-align: top;\n",
       "    }\n",
       "\n",
       "    .dataframe thead th {\n",
       "        text-align: right;\n",
       "    }\n",
       "</style>\n",
       "<table border=\"1\" class=\"dataframe\">\n",
       "  <thead>\n",
       "    <tr style=\"text-align: right;\">\n",
       "      <th></th>\n",
       "      <th>b2c_c2c</th>\n",
       "      <th>declared_handling_days</th>\n",
       "      <th>shipment_method_id</th>\n",
       "      <th>shipping_fee</th>\n",
       "      <th>carrier_min_estimate</th>\n",
       "      <th>carrier_max_estimate</th>\n",
       "      <th>category_id</th>\n",
       "      <th>item_price</th>\n",
       "      <th>quantity</th>\n",
       "      <th>payment_datetime</th>\n",
       "      <th>delivery_date</th>\n",
       "      <th>weight</th>\n",
       "      <th>weight_units</th>\n",
       "      <th>package_size</th>\n",
       "      <th>Distance</th>\n",
       "      <th>pay_to_acctt</th>\n",
       "      <th>del_days</th>\n",
       "    </tr>\n",
       "  </thead>\n",
       "  <tbody>\n",
       "    <tr>\n",
       "      <th>0</th>\n",
       "      <td>1</td>\n",
       "      <td>0.0</td>\n",
       "      <td>0</td>\n",
       "      <td>0.0</td>\n",
       "      <td>3</td>\n",
       "      <td>5</td>\n",
       "      <td>6</td>\n",
       "      <td>35.99</td>\n",
       "      <td>1</td>\n",
       "      <td>2019-07-06</td>\n",
       "      <td>2019-07-10</td>\n",
       "      <td>7</td>\n",
       "      <td>1</td>\n",
       "      <td>5</td>\n",
       "      <td>1621.567281</td>\n",
       "      <td>2</td>\n",
       "      <td>4</td>\n",
       "    </tr>\n",
       "    <tr>\n",
       "      <th>1</th>\n",
       "      <td>2</td>\n",
       "      <td>1.0</td>\n",
       "      <td>1</td>\n",
       "      <td>0.0</td>\n",
       "      <td>2</td>\n",
       "      <td>5</td>\n",
       "      <td>10</td>\n",
       "      <td>349.99</td>\n",
       "      <td>2</td>\n",
       "      <td>2019-01-02</td>\n",
       "      <td>2019-01-07</td>\n",
       "      <td>176</td>\n",
       "      <td>1</td>\n",
       "      <td>5</td>\n",
       "      <td>687.747533</td>\n",
       "      <td>1</td>\n",
       "      <td>5</td>\n",
       "    </tr>\n",
       "    <tr>\n",
       "      <th>2</th>\n",
       "      <td>1</td>\n",
       "      <td>2.0</td>\n",
       "      <td>1</td>\n",
       "      <td>12.0</td>\n",
       "      <td>2</td>\n",
       "      <td>5</td>\n",
       "      <td>6</td>\n",
       "      <td>102.50</td>\n",
       "      <td>1</td>\n",
       "      <td>2018-11-11</td>\n",
       "      <td>2018-11-19</td>\n",
       "      <td>32</td>\n",
       "      <td>1</td>\n",
       "      <td>5</td>\n",
       "      <td>1057.383292</td>\n",
       "      <td>4</td>\n",
       "      <td>8</td>\n",
       "    </tr>\n",
       "    <tr>\n",
       "      <th>3</th>\n",
       "      <td>2</td>\n",
       "      <td>5.0</td>\n",
       "      <td>1</td>\n",
       "      <td>10.5</td>\n",
       "      <td>2</td>\n",
       "      <td>5</td>\n",
       "      <td>10</td>\n",
       "      <td>18.44</td>\n",
       "      <td>1</td>\n",
       "      <td>2018-05-02</td>\n",
       "      <td>2018-05-07</td>\n",
       "      <td>0</td>\n",
       "      <td>1</td>\n",
       "      <td>5</td>\n",
       "      <td>2567.202433</td>\n",
       "      <td>2</td>\n",
       "      <td>5</td>\n",
       "    </tr>\n",
       "    <tr>\n",
       "      <th>4</th>\n",
       "      <td>2</td>\n",
       "      <td>5.0</td>\n",
       "      <td>0</td>\n",
       "      <td>8.4</td>\n",
       "      <td>3</td>\n",
       "      <td>5</td>\n",
       "      <td>3</td>\n",
       "      <td>4.55</td>\n",
       "      <td>1</td>\n",
       "      <td>2019-02-23</td>\n",
       "      <td>2019-03-04</td>\n",
       "      <td>16</td>\n",
       "      <td>1</td>\n",
       "      <td>5</td>\n",
       "      <td>887.293984</td>\n",
       "      <td>5</td>\n",
       "      <td>9</td>\n",
       "    </tr>\n",
       "  </tbody>\n",
       "</table>\n",
       "</div>"
      ],
      "text/plain": [
       "   b2c_c2c  declared_handling_days  shipment_method_id  shipping_fee  \\\n",
       "0        1                     0.0                   0           0.0   \n",
       "1        2                     1.0                   1           0.0   \n",
       "2        1                     2.0                   1          12.0   \n",
       "3        2                     5.0                   1          10.5   \n",
       "4        2                     5.0                   0           8.4   \n",
       "\n",
       "   carrier_min_estimate  carrier_max_estimate  category_id  item_price  \\\n",
       "0                     3                     5            6       35.99   \n",
       "1                     2                     5           10      349.99   \n",
       "2                     2                     5            6      102.50   \n",
       "3                     2                     5           10       18.44   \n",
       "4                     3                     5            3        4.55   \n",
       "\n",
       "   quantity payment_datetime delivery_date  weight  weight_units  \\\n",
       "0         1       2019-07-06    2019-07-10       7             1   \n",
       "1         2       2019-01-02    2019-01-07     176             1   \n",
       "2         1       2018-11-11    2018-11-19      32             1   \n",
       "3         1       2018-05-02    2018-05-07       0             1   \n",
       "4         1       2019-02-23    2019-03-04      16             1   \n",
       "\n",
       "   package_size     Distance  pay_to_acctt  del_days  \n",
       "0             5  1621.567281             2         4  \n",
       "1             5   687.747533             1         5  \n",
       "2             5  1057.383292             4         8  \n",
       "3             5  2567.202433             2         5  \n",
       "4             5   887.293984             5         9  "
      ]
     },
     "execution_count": 31,
     "metadata": {},
     "output_type": "execute_result"
    }
   ],
   "source": [
    "# CLEAN 'np.nan, np.inf, -np.inf' FROM DATA\n",
    "def clean_dataset(df):\n",
    "    assert isinstance(df, pd.DataFrame), \"df needs to be a pd.DataFrame\"\n",
    "    df.dropna(inplace=True)\n",
    "    indices_to_keep = ~df.isin([np.nan, np.inf, -np.inf]).any(1)\n",
    "    return df[indices_to_keep]\n",
    "clean_dataset(final_df)\n",
    "#final_df=final_df.drop(['level_0','index'], axis=1)\n",
    "final_df.head()"
   ]
  },
  {
   "cell_type": "code",
   "execution_count": 32,
   "id": "50d8d968",
   "metadata": {
    "ExecuteTime": {
     "end_time": "2021-11-03T21:04:43.487995Z",
     "start_time": "2021-11-03T21:04:43.457655Z"
    }
   },
   "outputs": [
    {
     "data": {
      "text/html": [
       "<div>\n",
       "<style scoped>\n",
       "    .dataframe tbody tr th:only-of-type {\n",
       "        vertical-align: middle;\n",
       "    }\n",
       "\n",
       "    .dataframe tbody tr th {\n",
       "        vertical-align: top;\n",
       "    }\n",
       "\n",
       "    .dataframe thead th {\n",
       "        text-align: right;\n",
       "    }\n",
       "</style>\n",
       "<table border=\"1\" class=\"dataframe\">\n",
       "  <thead>\n",
       "    <tr style=\"text-align: right;\">\n",
       "      <th></th>\n",
       "      <th>b2c_c2c</th>\n",
       "      <th>declared_handling_days</th>\n",
       "      <th>shipment_method_id</th>\n",
       "      <th>shipping_fee</th>\n",
       "      <th>carrier_min_estimate</th>\n",
       "      <th>carrier_max_estimate</th>\n",
       "      <th>category_id</th>\n",
       "      <th>item_price</th>\n",
       "      <th>quantity</th>\n",
       "      <th>weight</th>\n",
       "      <th>weight_units</th>\n",
       "      <th>package_size</th>\n",
       "      <th>Distance</th>\n",
       "      <th>pay_to_acctt</th>\n",
       "      <th>del_days</th>\n",
       "    </tr>\n",
       "  </thead>\n",
       "  <tbody>\n",
       "    <tr>\n",
       "      <th>0</th>\n",
       "      <td>1</td>\n",
       "      <td>0.0</td>\n",
       "      <td>0</td>\n",
       "      <td>0.0</td>\n",
       "      <td>3</td>\n",
       "      <td>5</td>\n",
       "      <td>6</td>\n",
       "      <td>35.99</td>\n",
       "      <td>1</td>\n",
       "      <td>7</td>\n",
       "      <td>1</td>\n",
       "      <td>5</td>\n",
       "      <td>1621.567281</td>\n",
       "      <td>2</td>\n",
       "      <td>4</td>\n",
       "    </tr>\n",
       "    <tr>\n",
       "      <th>1</th>\n",
       "      <td>2</td>\n",
       "      <td>1.0</td>\n",
       "      <td>1</td>\n",
       "      <td>0.0</td>\n",
       "      <td>2</td>\n",
       "      <td>5</td>\n",
       "      <td>10</td>\n",
       "      <td>349.99</td>\n",
       "      <td>2</td>\n",
       "      <td>176</td>\n",
       "      <td>1</td>\n",
       "      <td>5</td>\n",
       "      <td>687.747533</td>\n",
       "      <td>1</td>\n",
       "      <td>5</td>\n",
       "    </tr>\n",
       "    <tr>\n",
       "      <th>2</th>\n",
       "      <td>1</td>\n",
       "      <td>2.0</td>\n",
       "      <td>1</td>\n",
       "      <td>12.0</td>\n",
       "      <td>2</td>\n",
       "      <td>5</td>\n",
       "      <td>6</td>\n",
       "      <td>102.50</td>\n",
       "      <td>1</td>\n",
       "      <td>32</td>\n",
       "      <td>1</td>\n",
       "      <td>5</td>\n",
       "      <td>1057.383292</td>\n",
       "      <td>4</td>\n",
       "      <td>8</td>\n",
       "    </tr>\n",
       "    <tr>\n",
       "      <th>3</th>\n",
       "      <td>2</td>\n",
       "      <td>5.0</td>\n",
       "      <td>1</td>\n",
       "      <td>10.5</td>\n",
       "      <td>2</td>\n",
       "      <td>5</td>\n",
       "      <td>10</td>\n",
       "      <td>18.44</td>\n",
       "      <td>1</td>\n",
       "      <td>0</td>\n",
       "      <td>1</td>\n",
       "      <td>5</td>\n",
       "      <td>2567.202433</td>\n",
       "      <td>2</td>\n",
       "      <td>5</td>\n",
       "    </tr>\n",
       "    <tr>\n",
       "      <th>4</th>\n",
       "      <td>2</td>\n",
       "      <td>5.0</td>\n",
       "      <td>0</td>\n",
       "      <td>8.4</td>\n",
       "      <td>3</td>\n",
       "      <td>5</td>\n",
       "      <td>3</td>\n",
       "      <td>4.55</td>\n",
       "      <td>1</td>\n",
       "      <td>16</td>\n",
       "      <td>1</td>\n",
       "      <td>5</td>\n",
       "      <td>887.293984</td>\n",
       "      <td>5</td>\n",
       "      <td>9</td>\n",
       "    </tr>\n",
       "  </tbody>\n",
       "</table>\n",
       "</div>"
      ],
      "text/plain": [
       "   b2c_c2c  declared_handling_days  shipment_method_id  shipping_fee  \\\n",
       "0        1                     0.0                   0           0.0   \n",
       "1        2                     1.0                   1           0.0   \n",
       "2        1                     2.0                   1          12.0   \n",
       "3        2                     5.0                   1          10.5   \n",
       "4        2                     5.0                   0           8.4   \n",
       "\n",
       "   carrier_min_estimate  carrier_max_estimate  category_id  item_price  \\\n",
       "0                     3                     5            6       35.99   \n",
       "1                     2                     5           10      349.99   \n",
       "2                     2                     5            6      102.50   \n",
       "3                     2                     5           10       18.44   \n",
       "4                     3                     5            3        4.55   \n",
       "\n",
       "   quantity  weight  weight_units  package_size     Distance  pay_to_acctt  \\\n",
       "0         1       7             1             5  1621.567281             2   \n",
       "1         2     176             1             5   687.747533             1   \n",
       "2         1      32             1             5  1057.383292             4   \n",
       "3         1       0             1             5  2567.202433             2   \n",
       "4         1      16             1             5   887.293984             5   \n",
       "\n",
       "   del_days  \n",
       "0         4  \n",
       "1         5  \n",
       "2         8  \n",
       "3         5  \n",
       "4         9  "
      ]
     },
     "execution_count": 32,
     "metadata": {},
     "output_type": "execute_result"
    }
   ],
   "source": [
    "final_df.reset_index(drop=True,inplace=True)\n",
    "final_df.shape \n",
    "refined_data =final_df\n",
    "final_df = final_df.drop(['payment_datetime','delivery_date'], axis=1)\n",
    "final_df.head()"
   ]
  },
  {
   "cell_type": "code",
   "execution_count": 33,
   "id": "85caf011",
   "metadata": {},
   "outputs": [
    {
     "data": {
      "text/html": [
       "<div>\n",
       "<style scoped>\n",
       "    .dataframe tbody tr th:only-of-type {\n",
       "        vertical-align: middle;\n",
       "    }\n",
       "\n",
       "    .dataframe tbody tr th {\n",
       "        vertical-align: top;\n",
       "    }\n",
       "\n",
       "    .dataframe thead th {\n",
       "        text-align: right;\n",
       "    }\n",
       "</style>\n",
       "<table border=\"1\" class=\"dataframe\">\n",
       "  <thead>\n",
       "    <tr style=\"text-align: right;\">\n",
       "      <th></th>\n",
       "      <th>b2c_c2c</th>\n",
       "      <th>declared_handling_days</th>\n",
       "      <th>shipment_method_id</th>\n",
       "      <th>shipping_fee</th>\n",
       "      <th>carrier_min_estimate</th>\n",
       "      <th>carrier_max_estimate</th>\n",
       "      <th>category_id</th>\n",
       "      <th>item_price</th>\n",
       "      <th>quantity</th>\n",
       "      <th>payment_datetime</th>\n",
       "      <th>delivery_date</th>\n",
       "      <th>weight</th>\n",
       "      <th>weight_units</th>\n",
       "      <th>package_size</th>\n",
       "      <th>Distance</th>\n",
       "      <th>pay_to_acctt</th>\n",
       "      <th>del_days</th>\n",
       "    </tr>\n",
       "  </thead>\n",
       "  <tbody>\n",
       "    <tr>\n",
       "      <th>0</th>\n",
       "      <td>1</td>\n",
       "      <td>0.0</td>\n",
       "      <td>0</td>\n",
       "      <td>0.0</td>\n",
       "      <td>3</td>\n",
       "      <td>5</td>\n",
       "      <td>6</td>\n",
       "      <td>35.99</td>\n",
       "      <td>1</td>\n",
       "      <td>2019-07-06</td>\n",
       "      <td>2019-07-10</td>\n",
       "      <td>7</td>\n",
       "      <td>1</td>\n",
       "      <td>5</td>\n",
       "      <td>1621.567281</td>\n",
       "      <td>2</td>\n",
       "      <td>4</td>\n",
       "    </tr>\n",
       "    <tr>\n",
       "      <th>1</th>\n",
       "      <td>2</td>\n",
       "      <td>1.0</td>\n",
       "      <td>1</td>\n",
       "      <td>0.0</td>\n",
       "      <td>2</td>\n",
       "      <td>5</td>\n",
       "      <td>10</td>\n",
       "      <td>349.99</td>\n",
       "      <td>2</td>\n",
       "      <td>2019-01-02</td>\n",
       "      <td>2019-01-07</td>\n",
       "      <td>176</td>\n",
       "      <td>1</td>\n",
       "      <td>5</td>\n",
       "      <td>687.747533</td>\n",
       "      <td>1</td>\n",
       "      <td>5</td>\n",
       "    </tr>\n",
       "    <tr>\n",
       "      <th>2</th>\n",
       "      <td>1</td>\n",
       "      <td>2.0</td>\n",
       "      <td>1</td>\n",
       "      <td>12.0</td>\n",
       "      <td>2</td>\n",
       "      <td>5</td>\n",
       "      <td>6</td>\n",
       "      <td>102.50</td>\n",
       "      <td>1</td>\n",
       "      <td>2018-11-11</td>\n",
       "      <td>2018-11-19</td>\n",
       "      <td>32</td>\n",
       "      <td>1</td>\n",
       "      <td>5</td>\n",
       "      <td>1057.383292</td>\n",
       "      <td>4</td>\n",
       "      <td>8</td>\n",
       "    </tr>\n",
       "    <tr>\n",
       "      <th>3</th>\n",
       "      <td>2</td>\n",
       "      <td>5.0</td>\n",
       "      <td>1</td>\n",
       "      <td>10.5</td>\n",
       "      <td>2</td>\n",
       "      <td>5</td>\n",
       "      <td>10</td>\n",
       "      <td>18.44</td>\n",
       "      <td>1</td>\n",
       "      <td>2018-05-02</td>\n",
       "      <td>2018-05-07</td>\n",
       "      <td>0</td>\n",
       "      <td>1</td>\n",
       "      <td>5</td>\n",
       "      <td>2567.202433</td>\n",
       "      <td>2</td>\n",
       "      <td>5</td>\n",
       "    </tr>\n",
       "    <tr>\n",
       "      <th>4</th>\n",
       "      <td>2</td>\n",
       "      <td>5.0</td>\n",
       "      <td>0</td>\n",
       "      <td>8.4</td>\n",
       "      <td>3</td>\n",
       "      <td>5</td>\n",
       "      <td>3</td>\n",
       "      <td>4.55</td>\n",
       "      <td>1</td>\n",
       "      <td>2019-02-23</td>\n",
       "      <td>2019-03-04</td>\n",
       "      <td>16</td>\n",
       "      <td>1</td>\n",
       "      <td>5</td>\n",
       "      <td>887.293984</td>\n",
       "      <td>5</td>\n",
       "      <td>9</td>\n",
       "    </tr>\n",
       "  </tbody>\n",
       "</table>\n",
       "</div>"
      ],
      "text/plain": [
       "   b2c_c2c  declared_handling_days  shipment_method_id  shipping_fee  \\\n",
       "0        1                     0.0                   0           0.0   \n",
       "1        2                     1.0                   1           0.0   \n",
       "2        1                     2.0                   1          12.0   \n",
       "3        2                     5.0                   1          10.5   \n",
       "4        2                     5.0                   0           8.4   \n",
       "\n",
       "   carrier_min_estimate  carrier_max_estimate  category_id  item_price  \\\n",
       "0                     3                     5            6       35.99   \n",
       "1                     2                     5           10      349.99   \n",
       "2                     2                     5            6      102.50   \n",
       "3                     2                     5           10       18.44   \n",
       "4                     3                     5            3        4.55   \n",
       "\n",
       "   quantity payment_datetime delivery_date  weight  weight_units  \\\n",
       "0         1       2019-07-06    2019-07-10       7             1   \n",
       "1         2       2019-01-02    2019-01-07     176             1   \n",
       "2         1       2018-11-11    2018-11-19      32             1   \n",
       "3         1       2018-05-02    2018-05-07       0             1   \n",
       "4         1       2019-02-23    2019-03-04      16             1   \n",
       "\n",
       "   package_size     Distance  pay_to_acctt  del_days  \n",
       "0             5  1621.567281             2         4  \n",
       "1             5   687.747533             1         5  \n",
       "2             5  1057.383292             4         8  \n",
       "3             5  2567.202433             2         5  \n",
       "4             5   887.293984             5         9  "
      ]
     },
     "execution_count": 33,
     "metadata": {},
     "output_type": "execute_result"
    }
   ],
   "source": [
    "# SAVE A INSTANCE OF REFINED DATA\n",
    "refined_data1=refined_data\n",
    "refined_data1.head()"
   ]
  },
  {
   "cell_type": "code",
   "execution_count": 34,
   "id": "b32100ea",
   "metadata": {
    "ExecuteTime": {
     "end_time": "2021-11-03T21:05:33.009069Z",
     "start_time": "2021-11-03T21:05:32.452774Z"
    }
   },
   "outputs": [],
   "source": [
    "from sklearn import linear_model"
   ]
  },
  {
   "cell_type": "code",
   "execution_count": 35,
   "id": "fc42f939",
   "metadata": {
    "ExecuteTime": {
     "end_time": "2021-11-03T21:05:37.130093Z",
     "start_time": "2021-11-03T21:05:37.121759Z"
    }
   },
   "outputs": [],
   "source": [
    "# 'del_days' IS DELIVARY DAYS FROM THE PAYMENT DAYS IS OUR Y\n",
    "# WE WILL CALCALCULTAE DELIVARY DATE FROM IT\n",
    "x = final_df.drop('del_days', axis=1)"
   ]
  },
  {
   "cell_type": "code",
   "execution_count": 36,
   "id": "874727ac",
   "metadata": {
    "ExecuteTime": {
     "end_time": "2021-11-03T21:08:21.547879Z",
     "start_time": "2021-11-03T21:08:21.523715Z"
    }
   },
   "outputs": [
    {
     "name": "stdout",
     "output_type": "stream",
     "text": [
      "<class 'pandas.core.frame.DataFrame'>\n",
      "RangeIndex: 55641 entries, 0 to 55640\n",
      "Data columns (total 14 columns):\n",
      " #   Column                  Non-Null Count  Dtype  \n",
      "---  ------                  --------------  -----  \n",
      " 0   b2c_c2c                 55641 non-null  int64  \n",
      " 1   declared_handling_days  55641 non-null  float64\n",
      " 2   shipment_method_id      55641 non-null  int64  \n",
      " 3   shipping_fee            55641 non-null  float64\n",
      " 4   carrier_min_estimate    55641 non-null  int64  \n",
      " 5   carrier_max_estimate    55641 non-null  int64  \n",
      " 6   category_id             55641 non-null  int64  \n",
      " 7   item_price              55641 non-null  float64\n",
      " 8   quantity                55641 non-null  int64  \n",
      " 9   weight                  55641 non-null  int64  \n",
      " 10  weight_units            55641 non-null  int64  \n",
      " 11  package_size            55641 non-null  int64  \n",
      " 12  Distance                55641 non-null  float64\n",
      " 13  pay_to_acctt            55641 non-null  int64  \n",
      "dtypes: float64(4), int64(10)\n",
      "memory usage: 5.9 MB\n"
     ]
    }
   ],
   "source": [
    "x.info()"
   ]
  },
  {
   "cell_type": "code",
   "execution_count": 37,
   "id": "51d6d268",
   "metadata": {
    "ExecuteTime": {
     "end_time": "2021-11-03T21:08:28.744903Z",
     "start_time": "2021-11-03T21:08:28.740810Z"
    }
   },
   "outputs": [],
   "source": [
    "y = final_df.del_days"
   ]
  },
  {
   "cell_type": "code",
   "execution_count": 38,
   "id": "e6554b4f",
   "metadata": {
    "ExecuteTime": {
     "end_time": "2021-11-03T21:18:52.674122Z",
     "start_time": "2021-11-03T21:18:52.669215Z"
    }
   },
   "outputs": [],
   "source": [
    "# StandardScaler IS FOR SCALING THE DATA\n",
    "from sklearn.model_selection import train_test_split\n",
    "from sklearn.preprocessing import StandardScaler\n",
    "from sklearn.pipeline import make_pipeline"
   ]
  },
  {
   "cell_type": "code",
   "execution_count": 39,
   "id": "a2b6b7d8",
   "metadata": {
    "ExecuteTime": {
     "end_time": "2021-11-03T21:22:28.778343Z",
     "start_time": "2021-11-03T21:22:28.763605Z"
    }
   },
   "outputs": [],
   "source": [
    "\n",
    "xtrain,xtest,ytrain,ytest = train_test_split(x,y, test_size=0.1, random_state = 0)"
   ]
  },
  {
   "cell_type": "code",
   "execution_count": 40,
   "id": "4892affc",
   "metadata": {
    "ExecuteTime": {
     "end_time": "2021-11-03T21:19:02.260593Z",
     "start_time": "2021-11-03T21:19:02.256575Z"
    }
   },
   "outputs": [],
   "source": [
    "lr=make_pipeline(StandardScaler(), linear_model.LinearRegression())"
   ]
  },
  {
   "cell_type": "code",
   "execution_count": 41,
   "id": "f488fc5a",
   "metadata": {
    "ExecuteTime": {
     "end_time": "2021-11-03T21:22:39.135023Z",
     "start_time": "2021-11-03T21:22:39.061862Z"
    }
   },
   "outputs": [
    {
     "data": {
      "text/plain": [
       "Pipeline(steps=[('standardscaler', StandardScaler()),\n",
       "                ('linearregression', LinearRegression())])"
      ]
     },
     "execution_count": 41,
     "metadata": {},
     "output_type": "execute_result"
    }
   ],
   "source": [
    "lr.fit(xtrain,ytrain)"
   ]
  },
  {
   "cell_type": "code",
   "execution_count": 42,
   "id": "31c17176",
   "metadata": {},
   "outputs": [
    {
     "data": {
      "text/html": [
       "<div>\n",
       "<style scoped>\n",
       "    .dataframe tbody tr th:only-of-type {\n",
       "        vertical-align: middle;\n",
       "    }\n",
       "\n",
       "    .dataframe tbody tr th {\n",
       "        vertical-align: top;\n",
       "    }\n",
       "\n",
       "    .dataframe thead th {\n",
       "        text-align: right;\n",
       "    }\n",
       "</style>\n",
       "<table border=\"1\" class=\"dataframe\">\n",
       "  <thead>\n",
       "    <tr style=\"text-align: right;\">\n",
       "      <th></th>\n",
       "      <th>b2c_c2c</th>\n",
       "      <th>declared_handling_days</th>\n",
       "      <th>shipment_method_id</th>\n",
       "      <th>shipping_fee</th>\n",
       "      <th>carrier_min_estimate</th>\n",
       "      <th>carrier_max_estimate</th>\n",
       "      <th>category_id</th>\n",
       "      <th>item_price</th>\n",
       "      <th>quantity</th>\n",
       "      <th>weight</th>\n",
       "      <th>weight_units</th>\n",
       "      <th>package_size</th>\n",
       "      <th>Distance</th>\n",
       "      <th>pay_to_acctt</th>\n",
       "    </tr>\n",
       "  </thead>\n",
       "  <tbody>\n",
       "    <tr>\n",
       "      <th>786</th>\n",
       "      <td>2</td>\n",
       "      <td>3.0</td>\n",
       "      <td>0</td>\n",
       "      <td>3.74</td>\n",
       "      <td>3</td>\n",
       "      <td>5</td>\n",
       "      <td>8</td>\n",
       "      <td>388.74</td>\n",
       "      <td>1</td>\n",
       "      <td>2</td>\n",
       "      <td>1</td>\n",
       "      <td>5</td>\n",
       "      <td>624.035306</td>\n",
       "      <td>1</td>\n",
       "    </tr>\n",
       "    <tr>\n",
       "      <th>11673</th>\n",
       "      <td>2</td>\n",
       "      <td>0.0</td>\n",
       "      <td>0</td>\n",
       "      <td>0.00</td>\n",
       "      <td>3</td>\n",
       "      <td>5</td>\n",
       "      <td>0</td>\n",
       "      <td>29.04</td>\n",
       "      <td>1</td>\n",
       "      <td>0</td>\n",
       "      <td>1</td>\n",
       "      <td>4</td>\n",
       "      <td>2561.405829</td>\n",
       "      <td>1</td>\n",
       "    </tr>\n",
       "    <tr>\n",
       "      <th>13790</th>\n",
       "      <td>2</td>\n",
       "      <td>0.0</td>\n",
       "      <td>0</td>\n",
       "      <td>0.00</td>\n",
       "      <td>3</td>\n",
       "      <td>5</td>\n",
       "      <td>0</td>\n",
       "      <td>11.95</td>\n",
       "      <td>1</td>\n",
       "      <td>2</td>\n",
       "      <td>1</td>\n",
       "      <td>5</td>\n",
       "      <td>991.448705</td>\n",
       "      <td>1</td>\n",
       "    </tr>\n",
       "    <tr>\n",
       "      <th>35542</th>\n",
       "      <td>1</td>\n",
       "      <td>3.0</td>\n",
       "      <td>2</td>\n",
       "      <td>0.00</td>\n",
       "      <td>2</td>\n",
       "      <td>9</td>\n",
       "      <td>1</td>\n",
       "      <td>39.00</td>\n",
       "      <td>1</td>\n",
       "      <td>32</td>\n",
       "      <td>1</td>\n",
       "      <td>2</td>\n",
       "      <td>241.759211</td>\n",
       "      <td>1</td>\n",
       "    </tr>\n",
       "    <tr>\n",
       "      <th>36754</th>\n",
       "      <td>2</td>\n",
       "      <td>2.0</td>\n",
       "      <td>0</td>\n",
       "      <td>15.75</td>\n",
       "      <td>3</td>\n",
       "      <td>5</td>\n",
       "      <td>4</td>\n",
       "      <td>207.50</td>\n",
       "      <td>1</td>\n",
       "      <td>0</td>\n",
       "      <td>1</td>\n",
       "      <td>5</td>\n",
       "      <td>1466.175760</td>\n",
       "      <td>2</td>\n",
       "    </tr>\n",
       "    <tr>\n",
       "      <th>...</th>\n",
       "      <td>...</td>\n",
       "      <td>...</td>\n",
       "      <td>...</td>\n",
       "      <td>...</td>\n",
       "      <td>...</td>\n",
       "      <td>...</td>\n",
       "      <td>...</td>\n",
       "      <td>...</td>\n",
       "      <td>...</td>\n",
       "      <td>...</td>\n",
       "      <td>...</td>\n",
       "      <td>...</td>\n",
       "      <td>...</td>\n",
       "      <td>...</td>\n",
       "    </tr>\n",
       "    <tr>\n",
       "      <th>45891</th>\n",
       "      <td>2</td>\n",
       "      <td>1.0</td>\n",
       "      <td>0</td>\n",
       "      <td>0.00</td>\n",
       "      <td>3</td>\n",
       "      <td>5</td>\n",
       "      <td>26</td>\n",
       "      <td>16.71</td>\n",
       "      <td>1</td>\n",
       "      <td>5</td>\n",
       "      <td>1</td>\n",
       "      <td>5</td>\n",
       "      <td>3950.528502</td>\n",
       "      <td>2</td>\n",
       "    </tr>\n",
       "    <tr>\n",
       "      <th>52416</th>\n",
       "      <td>1</td>\n",
       "      <td>1.0</td>\n",
       "      <td>0</td>\n",
       "      <td>2.96</td>\n",
       "      <td>3</td>\n",
       "      <td>5</td>\n",
       "      <td>17</td>\n",
       "      <td>6.75</td>\n",
       "      <td>1</td>\n",
       "      <td>2</td>\n",
       "      <td>1</td>\n",
       "      <td>5</td>\n",
       "      <td>3164.260111</td>\n",
       "      <td>2</td>\n",
       "    </tr>\n",
       "    <tr>\n",
       "      <th>42613</th>\n",
       "      <td>1</td>\n",
       "      <td>2.0</td>\n",
       "      <td>0</td>\n",
       "      <td>4.57</td>\n",
       "      <td>3</td>\n",
       "      <td>5</td>\n",
       "      <td>0</td>\n",
       "      <td>2.50</td>\n",
       "      <td>1</td>\n",
       "      <td>5</td>\n",
       "      <td>1</td>\n",
       "      <td>5</td>\n",
       "      <td>2163.550382</td>\n",
       "      <td>2</td>\n",
       "    </tr>\n",
       "    <tr>\n",
       "      <th>43567</th>\n",
       "      <td>1</td>\n",
       "      <td>1.0</td>\n",
       "      <td>0</td>\n",
       "      <td>0.00</td>\n",
       "      <td>3</td>\n",
       "      <td>5</td>\n",
       "      <td>4</td>\n",
       "      <td>18.95</td>\n",
       "      <td>1</td>\n",
       "      <td>0</td>\n",
       "      <td>1</td>\n",
       "      <td>5</td>\n",
       "      <td>2070.799236</td>\n",
       "      <td>4</td>\n",
       "    </tr>\n",
       "    <tr>\n",
       "      <th>2732</th>\n",
       "      <td>2</td>\n",
       "      <td>1.0</td>\n",
       "      <td>0</td>\n",
       "      <td>0.00</td>\n",
       "      <td>3</td>\n",
       "      <td>5</td>\n",
       "      <td>7</td>\n",
       "      <td>6.16</td>\n",
       "      <td>1</td>\n",
       "      <td>0</td>\n",
       "      <td>1</td>\n",
       "      <td>5</td>\n",
       "      <td>2697.300903</td>\n",
       "      <td>0</td>\n",
       "    </tr>\n",
       "  </tbody>\n",
       "</table>\n",
       "<p>50076 rows × 14 columns</p>\n",
       "</div>"
      ],
      "text/plain": [
       "       b2c_c2c  declared_handling_days  shipment_method_id  shipping_fee  \\\n",
       "786          2                     3.0                   0          3.74   \n",
       "11673        2                     0.0                   0          0.00   \n",
       "13790        2                     0.0                   0          0.00   \n",
       "35542        1                     3.0                   2          0.00   \n",
       "36754        2                     2.0                   0         15.75   \n",
       "...        ...                     ...                 ...           ...   \n",
       "45891        2                     1.0                   0          0.00   \n",
       "52416        1                     1.0                   0          2.96   \n",
       "42613        1                     2.0                   0          4.57   \n",
       "43567        1                     1.0                   0          0.00   \n",
       "2732         2                     1.0                   0          0.00   \n",
       "\n",
       "       carrier_min_estimate  carrier_max_estimate  category_id  item_price  \\\n",
       "786                       3                     5            8      388.74   \n",
       "11673                     3                     5            0       29.04   \n",
       "13790                     3                     5            0       11.95   \n",
       "35542                     2                     9            1       39.00   \n",
       "36754                     3                     5            4      207.50   \n",
       "...                     ...                   ...          ...         ...   \n",
       "45891                     3                     5           26       16.71   \n",
       "52416                     3                     5           17        6.75   \n",
       "42613                     3                     5            0        2.50   \n",
       "43567                     3                     5            4       18.95   \n",
       "2732                      3                     5            7        6.16   \n",
       "\n",
       "       quantity  weight  weight_units  package_size     Distance  pay_to_acctt  \n",
       "786           1       2             1             5   624.035306             1  \n",
       "11673         1       0             1             4  2561.405829             1  \n",
       "13790         1       2             1             5   991.448705             1  \n",
       "35542         1      32             1             2   241.759211             1  \n",
       "36754         1       0             1             5  1466.175760             2  \n",
       "...         ...     ...           ...           ...          ...           ...  \n",
       "45891         1       5             1             5  3950.528502             2  \n",
       "52416         1       2             1             5  3164.260111             2  \n",
       "42613         1       5             1             5  2163.550382             2  \n",
       "43567         1       0             1             5  2070.799236             4  \n",
       "2732          1       0             1             5  2697.300903             0  \n",
       "\n",
       "[50076 rows x 14 columns]"
      ]
     },
     "execution_count": 42,
     "metadata": {},
     "output_type": "execute_result"
    }
   ],
   "source": [
    "xtrain"
   ]
  },
  {
   "cell_type": "code",
   "execution_count": null,
   "id": "d20a92e3",
   "metadata": {},
   "outputs": [],
   "source": [
    "from sklearn.svm import SVR\n",
    "from sklearn.metrics import mean_squared_error\n",
    "# data analysis and wrangling\n",
    "\n",
    "svc=SVR() \n",
    "svc.fit(xtrain,ytrain)\n",
    "svc_ytest_predict = svc.predict(xtest)\n",
    "# print('SVM regressor - Linear Accuracy: {:.2f}'.format(svc.score(xtest,ytest)*100))\n",
    "# print('SVM regressor - Linear rmse: ',np.sqrt(mean_squared_error(svc_ytest_predict , ytest  )))"
   ]
  },
  {
   "cell_type": "code",
   "execution_count": null,
   "id": "3509db45",
   "metadata": {},
   "outputs": [],
   "source": [
    "svc_predict = svc.predict(xtest).round(0).astype('int64')\n",
    "svc_score = r2_score(ytest, svc_predict)"
   ]
  },
  {
   "cell_type": "code",
   "execution_count": 43,
   "id": "cb740eaf",
   "metadata": {
    "ExecuteTime": {
     "end_time": "2021-11-03T21:21:44.000627Z",
     "start_time": "2021-11-03T21:21:43.998371Z"
    }
   },
   "outputs": [],
   "source": [
    "# R2_SCORE FOR CALCULATING THE ACCURACY OF THE MODEL\n",
    "from sklearn.metrics import r2_score "
   ]
  },
  {
   "cell_type": "code",
   "execution_count": 50,
   "id": "cdd94f95",
   "metadata": {
    "ExecuteTime": {
     "end_time": "2021-11-03T21:22:46.301534Z",
     "start_time": "2021-11-03T21:22:46.279327Z"
    }
   },
   "outputs": [],
   "source": [
    "predict = model.predict(xtest).round(0).astype('int64')"
   ]
  },
  {
   "cell_type": "code",
   "execution_count": 51,
   "id": "157ef129",
   "metadata": {
    "ExecuteTime": {
     "end_time": "2021-11-03T21:22:50.003702Z",
     "start_time": "2021-11-03T21:22:49.997056Z"
    }
   },
   "outputs": [
    {
     "data": {
      "text/plain": [
       "0.7749097298289285"
      ]
     },
     "execution_count": 51,
     "metadata": {},
     "output_type": "execute_result"
    }
   ],
   "source": [
    "score = r2_score(ytest, predict)\n",
    "score"
   ]
  },
  {
   "cell_type": "code",
   "execution_count": 46,
   "id": "db69a3cb",
   "metadata": {
    "ExecuteTime": {
     "end_time": "2021-11-03T21:22:01.022724Z",
     "start_time": "2021-11-03T21:22:01.016772Z"
    }
   },
   "outputs": [
    {
     "data": {
      "text/plain": [
       "array([7, 7, 6, 3, 6, 3, 5])"
      ]
     },
     "execution_count": 46,
     "metadata": {},
     "output_type": "execute_result"
    }
   ],
   "source": [
    "predict[0:7]"
   ]
  },
  {
   "cell_type": "code",
   "execution_count": 47,
   "id": "28956952",
   "metadata": {
    "ExecuteTime": {
     "end_time": "2021-11-03T21:22:05.474573Z",
     "start_time": "2021-11-03T21:22:05.467926Z"
    }
   },
   "outputs": [
    {
     "data": {
      "text/plain": [
       "20536     7\n",
       "41240    10\n",
       "3132      6\n",
       "53253     4\n",
       "1417      4\n",
       "28574     6\n",
       "Name: del_days, dtype: int64"
      ]
     },
     "execution_count": 47,
     "metadata": {},
     "output_type": "execute_result"
    }
   ],
   "source": [
    "ytest.head(6)"
   ]
  },
  {
   "cell_type": "code",
   "execution_count": 52,
   "id": "9004d083",
   "metadata": {
    "ExecuteTime": {
     "end_time": "2021-11-03T21:23:19.057638Z",
     "start_time": "2021-11-03T21:23:18.812724Z"
    }
   },
   "outputs": [],
   "source": [
    "import matplotlib.pyplot as plt"
   ]
  },
  {
   "cell_type": "code",
   "execution_count": 53,
   "id": "04483fdf",
   "metadata": {
    "ExecuteTime": {
     "end_time": "2021-11-03T21:23:29.190184Z",
     "start_time": "2021-11-03T21:23:29.015514Z"
    }
   },
   "outputs": [
    {
     "data": {
      "text/plain": [
       "[<matplotlib.lines.Line2D at 0x7f0d492bc130>]"
      ]
     },
     "execution_count": 53,
     "metadata": {},
     "output_type": "execute_result"
    },
    {
     "data": {
      "image/png": "[encoded data removed]",
      "text/plain": [
       "<Figure size 432x288 with 1 Axes>"
      ]
     },
     "metadata": {
      "needs_background": "light"
     },
     "output_type": "display_data"
    }
   ],
   "source": [
    "plt.plot(predict)\n",
    "\n"
   ]
  },
  {
   "cell_type": "code",
   "execution_count": 54,
   "id": "7c886948",
   "metadata": {
    "ExecuteTime": {
     "end_time": "2021-11-03T21:23:36.332497Z",
     "start_time": "2021-11-03T21:23:36.328364Z"
    }
   },
   "outputs": [],
   "source": [
    "ytestnp=np.array(ytest)"
   ]
  },
  {
   "cell_type": "code",
   "execution_count": 57,
   "id": "8cd0427e",
   "metadata": {
    "ExecuteTime": {
     "end_time": "2021-11-03T21:24:29.409715Z",
     "start_time": "2021-11-03T21:24:29.228435Z"
    }
   },
   "outputs": [
    {
     "data": {
      "text/plain": [
       "[<matplotlib.lines.Line2D at 0x7f0d490c75e0>]"
      ]
     },
     "execution_count": 57,
     "metadata": {},
     "output_type": "execute_result"
    },
    {
     "data": {
      "image/png": "[encoded data removed]",
      "text/plain": [
       "<Figure size 432x288 with 1 Axes>"
      ]
     },
     "metadata": {
      "needs_background": "light"
     },
     "output_type": "display_data"
    }
   ],
   "source": [
    "plt.plot(ytestnp)\n",
    "plt.plot(predict)"
   ]
  },
  {
   "cell_type": "code",
   "execution_count": 58,
   "id": "0216a1bf",
   "metadata": {
    "ExecuteTime": {
     "end_time": "2021-11-03T21:24:43.365801Z",
     "start_time": "2021-11-03T21:24:43.129348Z"
    }
   },
   "outputs": [
    {
     "data": {
      "text/plain": [
       "(15000, 19)"
      ]
     },
     "execution_count": 58,
     "metadata": {},
     "output_type": "execute_result"
    }
   ],
   "source": [
    "testdf=pd.read_csv('Sample_1_test.csv')\n",
    "\n",
    "testdf=testdf.drop(['delivery_date'], axis=1)\n",
    "\n",
    "testdf.shape"
   ]
  },
  {
   "cell_type": "code",
   "execution_count": 59,
   "id": "12dacc3f",
   "metadata": {
    "ExecuteTime": {
     "end_time": "2021-11-03T21:25:05.194620Z",
     "start_time": "2021-11-03T21:25:05.032267Z"
    }
   },
   "outputs": [
    {
     "name": "stdout",
     "output_type": "stream",
     "text": [
      "<class 'pandas.core.frame.DataFrame'>\n",
      "Int64Index: 14921 entries, 0 to 14999\n",
      "Data columns (total 19 columns):\n",
      " #   Column                     Non-Null Count  Dtype  \n",
      "---  ------                     --------------  -----  \n",
      " 0   Unnamed: 0                 14921 non-null  int64  \n",
      " 1   b2c_c2c                    14921 non-null  object \n",
      " 2   seller_id                  14921 non-null  int64  \n",
      " 3   declared_handling_days     14921 non-null  float64\n",
      " 4   acceptance_scan_timestamp  14921 non-null  object \n",
      " 5   shipment_method_id         14921 non-null  int64  \n",
      " 6   shipping_fee               14921 non-null  float64\n",
      " 7   carrier_min_estimate       14921 non-null  int64  \n",
      " 8   carrier_max_estimate       14921 non-null  int64  \n",
      " 9   item_zip                   14921 non-null  object \n",
      " 10  buyer_zip                  14921 non-null  object \n",
      " 11  category_id                14921 non-null  int64  \n",
      " 12  item_price                 14921 non-null  float64\n",
      " 13  quantity                   14921 non-null  int64  \n",
      " 14  payment_datetime           14921 non-null  object \n",
      " 15  weight                     14921 non-null  int64  \n",
      " 16  weight_units               14921 non-null  int64  \n",
      " 17  package_size               14921 non-null  object \n",
      " 18  record_number              14921 non-null  int64  \n",
      "dtypes: float64(3), int64(10), object(6)\n",
      "memory usage: 2.3+ MB\n"
     ]
    }
   ],
   "source": [
    "testdf=clean_dataset(testdf)\n",
    "testdf.info()\n"
   ]
  },
  {
   "cell_type": "code",
   "execution_count": 60,
   "id": "49bf7b6c",
   "metadata": {
    "ExecuteTime": {
     "end_time": "2021-11-03T21:25:17.185430Z",
     "start_time": "2021-11-03T21:25:17.168374Z"
    }
   },
   "outputs": [],
   "source": [
    "# SAME AS TRAIN DATA\n",
    "testdf['package_size'].replace(to_replace=['PACKAGE_THICK_ENVELOPE','NONE','LETTER','LARGE_ENVELOPE','LARGE_PACKAGE'],value=[5,4,3,2,1],inplace=True)"
   ]
  },
  {
   "cell_type": "code",
   "execution_count": 61,
   "id": "1009b54a",
   "metadata": {
    "ExecuteTime": {
     "end_time": "2021-11-03T21:25:50.978750Z",
     "start_time": "2021-11-03T21:25:50.963773Z"
    }
   },
   "outputs": [],
   "source": [
    "testdf['b2c_c2c'].replace(to_replace=['C2C','B2C'],value=[1,2],inplace=True)"
   ]
  },
  {
   "cell_type": "code",
   "execution_count": 62,
   "id": "ca39c67c",
   "metadata": {
    "ExecuteTime": {
     "end_time": "2021-11-03T21:26:06.774388Z",
     "start_time": "2021-11-03T21:26:06.738468Z"
    }
   },
   "outputs": [],
   "source": [
    "testdf['acceptance_scan_timestamp']= testdf['acceptance_scan_timestamp'].str.split(\" \").str[0]"
   ]
  },
  {
   "cell_type": "code",
   "execution_count": 63,
   "id": "cb8ab797",
   "metadata": {
    "ExecuteTime": {
     "end_time": "2021-11-03T21:26:10.456165Z",
     "start_time": "2021-11-03T21:26:10.432781Z"
    }
   },
   "outputs": [],
   "source": [
    "testdf.loc[:,'acceptance_scan_timestamp']= pd.to_datetime(testdf['acceptance_scan_timestamp']).dt.date"
   ]
  },
  {
   "cell_type": "code",
   "execution_count": 64,
   "id": "13441665",
   "metadata": {
    "ExecuteTime": {
     "end_time": "2021-11-03T21:26:17.977185Z",
     "start_time": "2021-11-03T21:26:17.940945Z"
    }
   },
   "outputs": [],
   "source": [
    "testdf['payment_datetime']= testdf['payment_datetime'].str.split(\" \").str[0]"
   ]
  },
  {
   "cell_type": "code",
   "execution_count": 65,
   "id": "256ab318",
   "metadata": {
    "ExecuteTime": {
     "end_time": "2021-11-03T21:26:21.523885Z",
     "start_time": "2021-11-03T21:26:21.499548Z"
    }
   },
   "outputs": [],
   "source": [
    "testdf.loc[:,'payment_datetime']= pd.to_datetime(testdf['payment_datetime']).dt.date"
   ]
  },
  {
   "cell_type": "code",
   "execution_count": 66,
   "id": "d4c3429b",
   "metadata": {
    "ExecuteTime": {
     "end_time": "2021-11-03T21:26:26.682671Z",
     "start_time": "2021-11-03T21:26:26.431373Z"
    }
   },
   "outputs": [],
   "source": [
    "testdf['Distance'] = get_distance_zip(testdf['item_zip'], testdf['buyer_zip'])"
   ]
  },
  {
   "cell_type": "code",
   "execution_count": 67,
   "id": "5eb54dd3",
   "metadata": {
    "ExecuteTime": {
     "end_time": "2021-11-03T21:26:35.008196Z",
     "start_time": "2021-11-03T21:26:34.928802Z"
    }
   },
   "outputs": [],
   "source": [
    "testdf['pay_to_acctt'] = (testdf['acceptance_scan_timestamp'] - testdf['payment_datetime']).dt.days"
   ]
  },
  {
   "cell_type": "code",
   "execution_count": 558,
   "id": "72f21ae9",
   "metadata": {},
   "outputs": [],
   "source": [
    "#test_payment_date=testdf.payment_datetime"
   ]
  },
  {
   "cell_type": "code",
   "execution_count": 68,
   "id": "907392d4",
   "metadata": {
    "ExecuteTime": {
     "end_time": "2021-11-03T21:26:48.533179Z",
     "start_time": "2021-11-03T21:26:48.526019Z"
    }
   },
   "outputs": [],
   "source": [
    "testdf = testdf.drop(['seller_id', 'acceptance_scan_timestamp','item_zip'], axis=1)"
   ]
  },
  {
   "cell_type": "code",
   "execution_count": 69,
   "id": "897a0070",
   "metadata": {
    "ExecuteTime": {
     "end_time": "2021-11-03T21:26:54.489710Z",
     "start_time": "2021-11-03T21:26:54.460108Z"
    }
   },
   "outputs": [
    {
     "data": {
      "text/html": [
       "<div>\n",
       "<style scoped>\n",
       "    .dataframe tbody tr th:only-of-type {\n",
       "        vertical-align: middle;\n",
       "    }\n",
       "\n",
       "    .dataframe tbody tr th {\n",
       "        vertical-align: top;\n",
       "    }\n",
       "\n",
       "    .dataframe thead th {\n",
       "        text-align: right;\n",
       "    }\n",
       "</style>\n",
       "<table border=\"1\" class=\"dataframe\">\n",
       "  <thead>\n",
       "    <tr style=\"text-align: right;\">\n",
       "      <th></th>\n",
       "      <th>b2c_c2c</th>\n",
       "      <th>declared_handling_days</th>\n",
       "      <th>shipment_method_id</th>\n",
       "      <th>shipping_fee</th>\n",
       "      <th>carrier_min_estimate</th>\n",
       "      <th>carrier_max_estimate</th>\n",
       "      <th>category_id</th>\n",
       "      <th>item_price</th>\n",
       "      <th>quantity</th>\n",
       "      <th>payment_datetime</th>\n",
       "      <th>weight</th>\n",
       "      <th>weight_units</th>\n",
       "      <th>package_size</th>\n",
       "      <th>record_number</th>\n",
       "      <th>Distance</th>\n",
       "      <th>pay_to_acctt</th>\n",
       "    </tr>\n",
       "  </thead>\n",
       "  <tbody>\n",
       "    <tr>\n",
       "      <th>0</th>\n",
       "      <td>2</td>\n",
       "      <td>2.0</td>\n",
       "      <td>4</td>\n",
       "      <td>0.00</td>\n",
       "      <td>2</td>\n",
       "      <td>9</td>\n",
       "      <td>11</td>\n",
       "      <td>8.45</td>\n",
       "      <td>1</td>\n",
       "      <td>2019-12-02</td>\n",
       "      <td>0</td>\n",
       "      <td>1</td>\n",
       "      <td>3</td>\n",
       "      <td>16377733</td>\n",
       "      <td>2531.894475</td>\n",
       "      <td>0</td>\n",
       "    </tr>\n",
       "    <tr>\n",
       "      <th>1</th>\n",
       "      <td>2</td>\n",
       "      <td>1.0</td>\n",
       "      <td>1</td>\n",
       "      <td>7.85</td>\n",
       "      <td>2</td>\n",
       "      <td>5</td>\n",
       "      <td>4</td>\n",
       "      <td>5.37</td>\n",
       "      <td>1</td>\n",
       "      <td>2019-11-24</td>\n",
       "      <td>32</td>\n",
       "      <td>1</td>\n",
       "      <td>5</td>\n",
       "      <td>16129562</td>\n",
       "      <td>71.647965</td>\n",
       "      <td>2</td>\n",
       "    </tr>\n",
       "    <tr>\n",
       "      <th>2</th>\n",
       "      <td>1</td>\n",
       "      <td>3.0</td>\n",
       "      <td>0</td>\n",
       "      <td>3.75</td>\n",
       "      <td>3</td>\n",
       "      <td>5</td>\n",
       "      <td>0</td>\n",
       "      <td>8.00</td>\n",
       "      <td>1</td>\n",
       "      <td>2019-12-09</td>\n",
       "      <td>4</td>\n",
       "      <td>1</td>\n",
       "      <td>5</td>\n",
       "      <td>15452689</td>\n",
       "      <td>1949.842421</td>\n",
       "      <td>2</td>\n",
       "    </tr>\n",
       "    <tr>\n",
       "      <th>3</th>\n",
       "      <td>2</td>\n",
       "      <td>1.0</td>\n",
       "      <td>0</td>\n",
       "      <td>0.00</td>\n",
       "      <td>3</td>\n",
       "      <td>5</td>\n",
       "      <td>7</td>\n",
       "      <td>6.25</td>\n",
       "      <td>1</td>\n",
       "      <td>2019-11-23</td>\n",
       "      <td>0</td>\n",
       "      <td>1</td>\n",
       "      <td>4</td>\n",
       "      <td>16932805</td>\n",
       "      <td>3762.527510</td>\n",
       "      <td>2</td>\n",
       "    </tr>\n",
       "    <tr>\n",
       "      <th>4</th>\n",
       "      <td>1</td>\n",
       "      <td>2.0</td>\n",
       "      <td>1</td>\n",
       "      <td>18.00</td>\n",
       "      <td>2</td>\n",
       "      <td>5</td>\n",
       "      <td>22</td>\n",
       "      <td>50.00</td>\n",
       "      <td>1</td>\n",
       "      <td>2019-12-13</td>\n",
       "      <td>32</td>\n",
       "      <td>1</td>\n",
       "      <td>5</td>\n",
       "      <td>16374203</td>\n",
       "      <td>1420.770599</td>\n",
       "      <td>3</td>\n",
       "    </tr>\n",
       "  </tbody>\n",
       "</table>\n",
       "</div>"
      ],
      "text/plain": [
       "   b2c_c2c  declared_handling_days  shipment_method_id  shipping_fee  \\\n",
       "0        2                     2.0                   4          0.00   \n",
       "1        2                     1.0                   1          7.85   \n",
       "2        1                     3.0                   0          3.75   \n",
       "3        2                     1.0                   0          0.00   \n",
       "4        1                     2.0                   1         18.00   \n",
       "\n",
       "   carrier_min_estimate  carrier_max_estimate  category_id  item_price  \\\n",
       "0                     2                     9           11        8.45   \n",
       "1                     2                     5            4        5.37   \n",
       "2                     3                     5            0        8.00   \n",
       "3                     3                     5            7        6.25   \n",
       "4                     2                     5           22       50.00   \n",
       "\n",
       "   quantity payment_datetime  weight  weight_units  package_size  \\\n",
       "0         1       2019-12-02       0             1             3   \n",
       "1         1       2019-11-24      32             1             5   \n",
       "2         1       2019-12-09       4             1             5   \n",
       "3         1       2019-11-23       0             1             4   \n",
       "4         1       2019-12-13      32             1             5   \n",
       "\n",
       "   record_number     Distance  pay_to_acctt  \n",
       "0       16377733  2531.894475             0  \n",
       "1       16129562    71.647965             2  \n",
       "2       15452689  1949.842421             2  \n",
       "3       16932805  3762.527510             2  \n",
       "4       16374203  1420.770599             3  "
      ]
     },
     "execution_count": 69,
     "metadata": {},
     "output_type": "execute_result"
    }
   ],
   "source": [
    "testdf = testdf.drop(['buyer_zip', 'Unnamed: 0'], axis=1)\n",
    "testdf.head()"
   ]
  },
  {
   "cell_type": "code",
   "execution_count": 70,
   "id": "bee02741",
   "metadata": {
    "ExecuteTime": {
     "end_time": "2021-11-03T21:27:03.387218Z",
     "start_time": "2021-11-03T21:27:03.364982Z"
    }
   },
   "outputs": [
    {
     "name": "stdout",
     "output_type": "stream",
     "text": [
      "<class 'pandas.core.frame.DataFrame'>\n",
      "Int64Index: 14921 entries, 0 to 14999\n",
      "Data columns (total 16 columns):\n",
      " #   Column                  Non-Null Count  Dtype  \n",
      "---  ------                  --------------  -----  \n",
      " 0   b2c_c2c                 14921 non-null  int64  \n",
      " 1   declared_handling_days  14921 non-null  float64\n",
      " 2   shipment_method_id      14921 non-null  int64  \n",
      " 3   shipping_fee            14921 non-null  float64\n",
      " 4   carrier_min_estimate    14921 non-null  int64  \n",
      " 5   carrier_max_estimate    14921 non-null  int64  \n",
      " 6   category_id             14921 non-null  int64  \n",
      " 7   item_price              14921 non-null  float64\n",
      " 8   quantity                14921 non-null  int64  \n",
      " 9   payment_datetime        14921 non-null  object \n",
      " 10  weight                  14921 non-null  int64  \n",
      " 11  weight_units            14921 non-null  int64  \n",
      " 12  package_size            14921 non-null  int64  \n",
      " 13  record_number           14921 non-null  int64  \n",
      " 14  Distance                14792 non-null  float64\n",
      " 15  pay_to_acctt            14921 non-null  int64  \n",
      "dtypes: float64(4), int64(11), object(1)\n",
      "memory usage: 1.9+ MB\n"
     ]
    }
   ],
   "source": [
    "testdf.info()"
   ]
  },
  {
   "cell_type": "code",
   "execution_count": 71,
   "id": "c63d695c",
   "metadata": {
    "ExecuteTime": {
     "end_time": "2021-11-03T21:27:14.477560Z",
     "start_time": "2021-11-03T21:27:14.363846Z"
    }
   },
   "outputs": [
    {
     "data": {
      "text/html": [
       "<div>\n",
       "<style scoped>\n",
       "    .dataframe tbody tr th:only-of-type {\n",
       "        vertical-align: middle;\n",
       "    }\n",
       "\n",
       "    .dataframe tbody tr th {\n",
       "        vertical-align: top;\n",
       "    }\n",
       "\n",
       "    .dataframe thead th {\n",
       "        text-align: right;\n",
       "    }\n",
       "</style>\n",
       "<table border=\"1\" class=\"dataframe\">\n",
       "  <thead>\n",
       "    <tr style=\"text-align: right;\">\n",
       "      <th></th>\n",
       "      <th>b2c_c2c</th>\n",
       "      <th>declared_handling_days</th>\n",
       "      <th>shipment_method_id</th>\n",
       "      <th>shipping_fee</th>\n",
       "      <th>carrier_min_estimate</th>\n",
       "      <th>carrier_max_estimate</th>\n",
       "      <th>category_id</th>\n",
       "      <th>item_price</th>\n",
       "      <th>quantity</th>\n",
       "      <th>payment_datetime</th>\n",
       "      <th>weight</th>\n",
       "      <th>weight_units</th>\n",
       "      <th>package_size</th>\n",
       "      <th>record_number</th>\n",
       "      <th>Distance</th>\n",
       "      <th>pay_to_acctt</th>\n",
       "    </tr>\n",
       "  </thead>\n",
       "  <tbody>\n",
       "    <tr>\n",
       "      <th>0</th>\n",
       "      <td>2</td>\n",
       "      <td>2.0</td>\n",
       "      <td>4</td>\n",
       "      <td>0.00</td>\n",
       "      <td>2</td>\n",
       "      <td>9</td>\n",
       "      <td>11</td>\n",
       "      <td>8.45</td>\n",
       "      <td>1</td>\n",
       "      <td>2019-12-02</td>\n",
       "      <td>0</td>\n",
       "      <td>1</td>\n",
       "      <td>3</td>\n",
       "      <td>16377733</td>\n",
       "      <td>2531.894475</td>\n",
       "      <td>0</td>\n",
       "    </tr>\n",
       "    <tr>\n",
       "      <th>1</th>\n",
       "      <td>2</td>\n",
       "      <td>1.0</td>\n",
       "      <td>1</td>\n",
       "      <td>7.85</td>\n",
       "      <td>2</td>\n",
       "      <td>5</td>\n",
       "      <td>4</td>\n",
       "      <td>5.37</td>\n",
       "      <td>1</td>\n",
       "      <td>2019-11-24</td>\n",
       "      <td>32</td>\n",
       "      <td>1</td>\n",
       "      <td>5</td>\n",
       "      <td>16129562</td>\n",
       "      <td>71.647965</td>\n",
       "      <td>2</td>\n",
       "    </tr>\n",
       "    <tr>\n",
       "      <th>2</th>\n",
       "      <td>1</td>\n",
       "      <td>3.0</td>\n",
       "      <td>0</td>\n",
       "      <td>3.75</td>\n",
       "      <td>3</td>\n",
       "      <td>5</td>\n",
       "      <td>0</td>\n",
       "      <td>8.00</td>\n",
       "      <td>1</td>\n",
       "      <td>2019-12-09</td>\n",
       "      <td>4</td>\n",
       "      <td>1</td>\n",
       "      <td>5</td>\n",
       "      <td>15452689</td>\n",
       "      <td>1949.842421</td>\n",
       "      <td>2</td>\n",
       "    </tr>\n",
       "    <tr>\n",
       "      <th>3</th>\n",
       "      <td>2</td>\n",
       "      <td>1.0</td>\n",
       "      <td>0</td>\n",
       "      <td>0.00</td>\n",
       "      <td>3</td>\n",
       "      <td>5</td>\n",
       "      <td>7</td>\n",
       "      <td>6.25</td>\n",
       "      <td>1</td>\n",
       "      <td>2019-11-23</td>\n",
       "      <td>0</td>\n",
       "      <td>1</td>\n",
       "      <td>4</td>\n",
       "      <td>16932805</td>\n",
       "      <td>3762.527510</td>\n",
       "      <td>2</td>\n",
       "    </tr>\n",
       "    <tr>\n",
       "      <th>4</th>\n",
       "      <td>1</td>\n",
       "      <td>2.0</td>\n",
       "      <td>1</td>\n",
       "      <td>18.00</td>\n",
       "      <td>2</td>\n",
       "      <td>5</td>\n",
       "      <td>22</td>\n",
       "      <td>50.00</td>\n",
       "      <td>1</td>\n",
       "      <td>2019-12-13</td>\n",
       "      <td>32</td>\n",
       "      <td>1</td>\n",
       "      <td>5</td>\n",
       "      <td>16374203</td>\n",
       "      <td>1420.770599</td>\n",
       "      <td>3</td>\n",
       "    </tr>\n",
       "    <tr>\n",
       "      <th>...</th>\n",
       "      <td>...</td>\n",
       "      <td>...</td>\n",
       "      <td>...</td>\n",
       "      <td>...</td>\n",
       "      <td>...</td>\n",
       "      <td>...</td>\n",
       "      <td>...</td>\n",
       "      <td>...</td>\n",
       "      <td>...</td>\n",
       "      <td>...</td>\n",
       "      <td>...</td>\n",
       "      <td>...</td>\n",
       "      <td>...</td>\n",
       "      <td>...</td>\n",
       "      <td>...</td>\n",
       "      <td>...</td>\n",
       "    </tr>\n",
       "    <tr>\n",
       "      <th>14995</th>\n",
       "      <td>2</td>\n",
       "      <td>0.0</td>\n",
       "      <td>0</td>\n",
       "      <td>0.00</td>\n",
       "      <td>3</td>\n",
       "      <td>5</td>\n",
       "      <td>1</td>\n",
       "      <td>19.98</td>\n",
       "      <td>1</td>\n",
       "      <td>2019-11-30</td>\n",
       "      <td>3</td>\n",
       "      <td>1</td>\n",
       "      <td>5</td>\n",
       "      <td>16453153</td>\n",
       "      <td>2642.644297</td>\n",
       "      <td>2</td>\n",
       "    </tr>\n",
       "    <tr>\n",
       "      <th>14996</th>\n",
       "      <td>2</td>\n",
       "      <td>1.0</td>\n",
       "      <td>1</td>\n",
       "      <td>9.30</td>\n",
       "      <td>2</td>\n",
       "      <td>5</td>\n",
       "      <td>3</td>\n",
       "      <td>51.09</td>\n",
       "      <td>1</td>\n",
       "      <td>2019-12-08</td>\n",
       "      <td>16</td>\n",
       "      <td>1</td>\n",
       "      <td>5</td>\n",
       "      <td>17047025</td>\n",
       "      <td>3890.510340</td>\n",
       "      <td>3</td>\n",
       "    </tr>\n",
       "    <tr>\n",
       "      <th>14997</th>\n",
       "      <td>1</td>\n",
       "      <td>1.0</td>\n",
       "      <td>0</td>\n",
       "      <td>3.75</td>\n",
       "      <td>3</td>\n",
       "      <td>5</td>\n",
       "      <td>7</td>\n",
       "      <td>2.49</td>\n",
       "      <td>1</td>\n",
       "      <td>2019-12-06</td>\n",
       "      <td>0</td>\n",
       "      <td>1</td>\n",
       "      <td>5</td>\n",
       "      <td>17335135</td>\n",
       "      <td>287.544773</td>\n",
       "      <td>1</td>\n",
       "    </tr>\n",
       "    <tr>\n",
       "      <th>14998</th>\n",
       "      <td>2</td>\n",
       "      <td>1.0</td>\n",
       "      <td>0</td>\n",
       "      <td>3.40</td>\n",
       "      <td>3</td>\n",
       "      <td>5</td>\n",
       "      <td>16</td>\n",
       "      <td>1.94</td>\n",
       "      <td>1</td>\n",
       "      <td>2019-11-09</td>\n",
       "      <td>0</td>\n",
       "      <td>1</td>\n",
       "      <td>5</td>\n",
       "      <td>17256382</td>\n",
       "      <td>4287.725685</td>\n",
       "      <td>3</td>\n",
       "    </tr>\n",
       "    <tr>\n",
       "      <th>14999</th>\n",
       "      <td>2</td>\n",
       "      <td>3.0</td>\n",
       "      <td>1</td>\n",
       "      <td>0.00</td>\n",
       "      <td>2</td>\n",
       "      <td>5</td>\n",
       "      <td>1</td>\n",
       "      <td>139.95</td>\n",
       "      <td>1</td>\n",
       "      <td>2019-11-18</td>\n",
       "      <td>32</td>\n",
       "      <td>1</td>\n",
       "      <td>3</td>\n",
       "      <td>17442549</td>\n",
       "      <td>2519.615062</td>\n",
       "      <td>2</td>\n",
       "    </tr>\n",
       "  </tbody>\n",
       "</table>\n",
       "<p>14792 rows × 16 columns</p>\n",
       "</div>"
      ],
      "text/plain": [
       "       b2c_c2c  declared_handling_days  shipment_method_id  shipping_fee  \\\n",
       "0            2                     2.0                   4          0.00   \n",
       "1            2                     1.0                   1          7.85   \n",
       "2            1                     3.0                   0          3.75   \n",
       "3            2                     1.0                   0          0.00   \n",
       "4            1                     2.0                   1         18.00   \n",
       "...        ...                     ...                 ...           ...   \n",
       "14995        2                     0.0                   0          0.00   \n",
       "14996        2                     1.0                   1          9.30   \n",
       "14997        1                     1.0                   0          3.75   \n",
       "14998        2                     1.0                   0          3.40   \n",
       "14999        2                     3.0                   1          0.00   \n",
       "\n",
       "       carrier_min_estimate  carrier_max_estimate  category_id  item_price  \\\n",
       "0                         2                     9           11        8.45   \n",
       "1                         2                     5            4        5.37   \n",
       "2                         3                     5            0        8.00   \n",
       "3                         3                     5            7        6.25   \n",
       "4                         2                     5           22       50.00   \n",
       "...                     ...                   ...          ...         ...   \n",
       "14995                     3                     5            1       19.98   \n",
       "14996                     2                     5            3       51.09   \n",
       "14997                     3                     5            7        2.49   \n",
       "14998                     3                     5           16        1.94   \n",
       "14999                     2                     5            1      139.95   \n",
       "\n",
       "       quantity payment_datetime  weight  weight_units  package_size  \\\n",
       "0             1       2019-12-02       0             1             3   \n",
       "1             1       2019-11-24      32             1             5   \n",
       "2             1       2019-12-09       4             1             5   \n",
       "3             1       2019-11-23       0             1             4   \n",
       "4             1       2019-12-13      32             1             5   \n",
       "...         ...              ...     ...           ...           ...   \n",
       "14995         1       2019-11-30       3             1             5   \n",
       "14996         1       2019-12-08      16             1             5   \n",
       "14997         1       2019-12-06       0             1             5   \n",
       "14998         1       2019-11-09       0             1             5   \n",
       "14999         1       2019-11-18      32             1             3   \n",
       "\n",
       "       record_number     Distance  pay_to_acctt  \n",
       "0           16377733  2531.894475             0  \n",
       "1           16129562    71.647965             2  \n",
       "2           15452689  1949.842421             2  \n",
       "3           16932805  3762.527510             2  \n",
       "4           16374203  1420.770599             3  \n",
       "...              ...          ...           ...  \n",
       "14995       16453153  2642.644297             2  \n",
       "14996       17047025  3890.510340             3  \n",
       "14997       17335135   287.544773             1  \n",
       "14998       17256382  4287.725685             3  \n",
       "14999       17442549  2519.615062             2  \n",
       "\n",
       "[14792 rows x 16 columns]"
      ]
     },
     "execution_count": 71,
     "metadata": {},
     "output_type": "execute_result"
    }
   ],
   "source": [
    "clean_dataset(testdf)"
   ]
  },
  {
   "cell_type": "code",
   "execution_count": 72,
   "id": "4ea46f36",
   "metadata": {
    "ExecuteTime": {
     "end_time": "2021-11-03T21:27:30.105610Z",
     "start_time": "2021-11-03T21:27:30.101569Z"
    }
   },
   "outputs": [],
   "source": [
    "testdf.reset_index(drop=True,inplace=True)\n"
   ]
  },
  {
   "cell_type": "code",
   "execution_count": 73,
   "id": "e7b8d1be",
   "metadata": {
    "ExecuteTime": {
     "end_time": "2021-11-03T21:29:10.965718Z",
     "start_time": "2021-11-03T21:29:10.959450Z"
    }
   },
   "outputs": [],
   "source": [
    "test_record_number=testdf.record_number\n",
    "test_payment_date=testdf.payment_datetime\n",
    "testdf = testdf.drop(['payment_datetime','record_number'], axis=1)\n"
   ]
  },
  {
   "cell_type": "code",
   "execution_count": 74,
   "id": "0ac8e574",
   "metadata": {
    "ExecuteTime": {
     "end_time": "2021-11-03T21:29:59.519430Z",
     "start_time": "2021-11-03T21:29:59.498698Z"
    }
   },
   "outputs": [
    {
     "name": "stdout",
     "output_type": "stream",
     "text": [
      "<class 'pandas.core.frame.DataFrame'>\n",
      "RangeIndex: 14792 entries, 0 to 14791\n",
      "Data columns (total 14 columns):\n",
      " #   Column                  Non-Null Count  Dtype  \n",
      "---  ------                  --------------  -----  \n",
      " 0   b2c_c2c                 14792 non-null  int64  \n",
      " 1   declared_handling_days  14792 non-null  float64\n",
      " 2   shipment_method_id      14792 non-null  int64  \n",
      " 3   shipping_fee            14792 non-null  float64\n",
      " 4   carrier_min_estimate    14792 non-null  int64  \n",
      " 5   carrier_max_estimate    14792 non-null  int64  \n",
      " 6   category_id             14792 non-null  int64  \n",
      " 7   item_price              14792 non-null  float64\n",
      " 8   quantity                14792 non-null  int64  \n",
      " 9   weight                  14792 non-null  int64  \n",
      " 10  weight_units            14792 non-null  int64  \n",
      " 11  package_size            14792 non-null  int64  \n",
      " 12  Distance                14792 non-null  float64\n",
      " 13  pay_to_acctt            14792 non-null  int64  \n",
      "dtypes: float64(4), int64(10)\n",
      "memory usage: 1.6 MB\n"
     ]
    }
   ],
   "source": [
    "testdf.info()"
   ]
  },
  {
   "cell_type": "code",
   "execution_count": 75,
   "id": "350d9088",
   "metadata": {
    "ExecuteTime": {
     "end_time": "2021-11-03T21:30:07.736645Z",
     "start_time": "2021-11-03T21:30:07.728613Z"
    }
   },
   "outputs": [],
   "source": [
    "\n",
    "testdfpredict = model.predict(testdf).round(0)"
   ]
  },
  {
   "cell_type": "code",
   "execution_count": 76,
   "id": "e855ecf7",
   "metadata": {
    "ExecuteTime": {
     "end_time": "2021-11-03T21:30:13.289992Z",
     "start_time": "2021-11-03T21:30:13.283652Z"
    }
   },
   "outputs": [
    {
     "data": {
      "text/plain": [
       "array([4., 5., 5., 6., 4., 5.])"
      ]
     },
     "execution_count": 76,
     "metadata": {},
     "output_type": "execute_result"
    }
   ],
   "source": [
    "testdfpredict[1:7]"
   ]
  },
  {
   "cell_type": "code",
   "execution_count": 77,
   "id": "c561400b",
   "metadata": {
    "ExecuteTime": {
     "end_time": "2021-11-03T21:30:25.064360Z",
     "start_time": "2021-11-03T21:30:25.057253Z"
    }
   },
   "outputs": [
    {
     "data": {
      "text/plain": [
       "6.0"
      ]
     },
     "execution_count": 77,
     "metadata": {},
     "output_type": "execute_result"
    }
   ],
   "source": [
    "npr= pd.Series(testdfpredict)\n",
    "npr[279]"
   ]
  },
  {
   "cell_type": "code",
   "execution_count": 78,
   "id": "259e54b7",
   "metadata": {
    "ExecuteTime": {
     "end_time": "2021-11-03T21:30:34.363136Z",
     "start_time": "2021-11-03T21:30:28.754834Z"
    }
   },
   "outputs": [
    {
     "name": "stderr",
     "output_type": "stream",
     "text": [
      "<ipython-input-78-d78ec0fdbbef>:1: DeprecationWarning: The default dtype for empty Series will be 'object' instead of 'float64' in a future version. Specify a dtype explicitly to silence this warning.\n",
      "  test_deli_date=pd.Series([])\n"
     ]
    }
   ],
   "source": [
    "# calculating delivery date\n",
    "\n",
    "test_deli_date=pd.Series([])\n",
    "for i in range(len(test_payment_date)):\n",
    "    \n",
    "    nextdate = test_payment_date[i] + datetime.timedelta(npr[i])\n",
    "   \n",
    "    nextdate= pd.Series([nextdate])\n",
    "    test_deli_date=test_deli_date.append(nextdate,ignore_index=True)"
   ]
  },
  {
   "cell_type": "code",
   "execution_count": 83,
   "id": "3c0c48a0",
   "metadata": {
    "ExecuteTime": {
     "end_time": "2021-11-03T21:33:03.857766Z",
     "start_time": "2021-11-03T21:33:03.850887Z"
    }
   },
   "outputs": [
    {
     "data": {
      "text/plain": [
       "0    2019-12-07\n",
       "1    2019-11-28\n",
       "2    2019-12-14\n",
       "3    2019-11-28\n",
       "4    2019-12-19\n",
       "5    2019-12-06\n",
       "6    2019-12-24\n",
       "7    2019-11-28\n",
       "8    2019-12-19\n",
       "9    2019-12-13\n",
       "dtype: object"
      ]
     },
     "execution_count": 83,
     "metadata": {},
     "output_type": "execute_result"
    }
   ],
   "source": [
    "# This is the delivery date of first 10 data of the test data\n",
    "test_deli_date[0:10]"
   ]
  },
  {
   "cell_type": "code",
   "execution_count": 84,
   "id": "e77f8f7a",
   "metadata": {
    "ExecuteTime": {
     "end_time": "2021-11-03T21:33:37.553444Z",
     "start_time": "2021-11-03T21:33:37.549680Z"
    }
   },
   "outputs": [],
   "source": [
    "ref_test_data=testdf"
   ]
  },
  {
   "cell_type": "code",
   "execution_count": 85,
   "id": "5eb09bdd",
   "metadata": {
    "ExecuteTime": {
     "end_time": "2021-11-03T21:35:04.963756Z",
     "start_time": "2021-11-03T21:35:04.957362Z"
    }
   },
   "outputs": [],
   "source": [
    "ref_test_data['record_number']=test_record_number\n",
    "ref_test_data['payment_date']=test_payment_date\n",
    "ref_test_data['delivery_date']=test_deli_date\n",
    "\n"
   ]
  },
  {
   "cell_type": "code",
   "execution_count": 86,
   "id": "b14ed613",
   "metadata": {
    "ExecuteTime": {
     "end_time": "2021-11-03T21:35:10.539159Z",
     "start_time": "2021-11-03T21:35:10.474708Z"
    }
   },
   "outputs": [
    {
     "data": {
      "text/html": [
       "<div>\n",
       "<style scoped>\n",
       "    .dataframe tbody tr th:only-of-type {\n",
       "        vertical-align: middle;\n",
       "    }\n",
       "\n",
       "    .dataframe tbody tr th {\n",
       "        vertical-align: top;\n",
       "    }\n",
       "\n",
       "    .dataframe thead th {\n",
       "        text-align: right;\n",
       "    }\n",
       "</style>\n",
       "<table border=\"1\" class=\"dataframe\">\n",
       "  <thead>\n",
       "    <tr style=\"text-align: right;\">\n",
       "      <th></th>\n",
       "      <th>b2c_c2c</th>\n",
       "      <th>declared_handling_days</th>\n",
       "      <th>shipment_method_id</th>\n",
       "      <th>shipping_fee</th>\n",
       "      <th>carrier_min_estimate</th>\n",
       "      <th>carrier_max_estimate</th>\n",
       "      <th>category_id</th>\n",
       "      <th>item_price</th>\n",
       "      <th>quantity</th>\n",
       "      <th>weight</th>\n",
       "      <th>weight_units</th>\n",
       "      <th>package_size</th>\n",
       "      <th>Distance</th>\n",
       "      <th>pay_to_acctt</th>\n",
       "      <th>record_number</th>\n",
       "      <th>payment_date</th>\n",
       "      <th>delivery_date</th>\n",
       "    </tr>\n",
       "  </thead>\n",
       "  <tbody>\n",
       "    <tr>\n",
       "      <th>0</th>\n",
       "      <td>2</td>\n",
       "      <td>2.0</td>\n",
       "      <td>4</td>\n",
       "      <td>0.00</td>\n",
       "      <td>2</td>\n",
       "      <td>9</td>\n",
       "      <td>11</td>\n",
       "      <td>8.45</td>\n",
       "      <td>1</td>\n",
       "      <td>0</td>\n",
       "      <td>1</td>\n",
       "      <td>3</td>\n",
       "      <td>2531.894475</td>\n",
       "      <td>0</td>\n",
       "      <td>16377733</td>\n",
       "      <td>2019-12-02</td>\n",
       "      <td>2019-12-07</td>\n",
       "    </tr>\n",
       "    <tr>\n",
       "      <th>1</th>\n",
       "      <td>2</td>\n",
       "      <td>1.0</td>\n",
       "      <td>1</td>\n",
       "      <td>7.85</td>\n",
       "      <td>2</td>\n",
       "      <td>5</td>\n",
       "      <td>4</td>\n",
       "      <td>5.37</td>\n",
       "      <td>1</td>\n",
       "      <td>32</td>\n",
       "      <td>1</td>\n",
       "      <td>5</td>\n",
       "      <td>71.647965</td>\n",
       "      <td>2</td>\n",
       "      <td>16129562</td>\n",
       "      <td>2019-11-24</td>\n",
       "      <td>2019-11-28</td>\n",
       "    </tr>\n",
       "    <tr>\n",
       "      <th>2</th>\n",
       "      <td>1</td>\n",
       "      <td>3.0</td>\n",
       "      <td>0</td>\n",
       "      <td>3.75</td>\n",
       "      <td>3</td>\n",
       "      <td>5</td>\n",
       "      <td>0</td>\n",
       "      <td>8.00</td>\n",
       "      <td>1</td>\n",
       "      <td>4</td>\n",
       "      <td>1</td>\n",
       "      <td>5</td>\n",
       "      <td>1949.842421</td>\n",
       "      <td>2</td>\n",
       "      <td>15452689</td>\n",
       "      <td>2019-12-09</td>\n",
       "      <td>2019-12-14</td>\n",
       "    </tr>\n",
       "    <tr>\n",
       "      <th>3</th>\n",
       "      <td>2</td>\n",
       "      <td>1.0</td>\n",
       "      <td>0</td>\n",
       "      <td>0.00</td>\n",
       "      <td>3</td>\n",
       "      <td>5</td>\n",
       "      <td>7</td>\n",
       "      <td>6.25</td>\n",
       "      <td>1</td>\n",
       "      <td>0</td>\n",
       "      <td>1</td>\n",
       "      <td>4</td>\n",
       "      <td>3762.527510</td>\n",
       "      <td>2</td>\n",
       "      <td>16932805</td>\n",
       "      <td>2019-11-23</td>\n",
       "      <td>2019-11-28</td>\n",
       "    </tr>\n",
       "    <tr>\n",
       "      <th>4</th>\n",
       "      <td>1</td>\n",
       "      <td>2.0</td>\n",
       "      <td>1</td>\n",
       "      <td>18.00</td>\n",
       "      <td>2</td>\n",
       "      <td>5</td>\n",
       "      <td>22</td>\n",
       "      <td>50.00</td>\n",
       "      <td>1</td>\n",
       "      <td>32</td>\n",
       "      <td>1</td>\n",
       "      <td>5</td>\n",
       "      <td>1420.770599</td>\n",
       "      <td>3</td>\n",
       "      <td>16374203</td>\n",
       "      <td>2019-12-13</td>\n",
       "      <td>2019-12-19</td>\n",
       "    </tr>\n",
       "  </tbody>\n",
       "</table>\n",
       "</div>"
      ],
      "text/plain": [
       "   b2c_c2c  declared_handling_days  shipment_method_id  shipping_fee  \\\n",
       "0        2                     2.0                   4          0.00   \n",
       "1        2                     1.0                   1          7.85   \n",
       "2        1                     3.0                   0          3.75   \n",
       "3        2                     1.0                   0          0.00   \n",
       "4        1                     2.0                   1         18.00   \n",
       "\n",
       "   carrier_min_estimate  carrier_max_estimate  category_id  item_price  \\\n",
       "0                     2                     9           11        8.45   \n",
       "1                     2                     5            4        5.37   \n",
       "2                     3                     5            0        8.00   \n",
       "3                     3                     5            7        6.25   \n",
       "4                     2                     5           22       50.00   \n",
       "\n",
       "   quantity  weight  weight_units  package_size     Distance  pay_to_acctt  \\\n",
       "0         1       0             1             3  2531.894475             0   \n",
       "1         1      32             1             5    71.647965             2   \n",
       "2         1       4             1             5  1949.842421             2   \n",
       "3         1       0             1             4  3762.527510             2   \n",
       "4         1      32             1             5  1420.770599             3   \n",
       "\n",
       "   record_number payment_date delivery_date  \n",
       "0       16377733   2019-12-02    2019-12-07  \n",
       "1       16129562   2019-11-24    2019-11-28  \n",
       "2       15452689   2019-12-09    2019-12-14  \n",
       "3       16932805   2019-11-23    2019-11-28  \n",
       "4       16374203   2019-12-13    2019-12-19  "
      ]
     },
     "execution_count": 86,
     "metadata": {},
     "output_type": "execute_result"
    }
   ],
   "source": [
    "ref_test_data1=ref_test_data\n",
    "ref_test_data1.head()"
   ]
  },
  {
   "cell_type": "code",
   "execution_count": 87,
   "id": "6d9eddff",
   "metadata": {
    "ExecuteTime": {
     "end_time": "2021-11-03T21:35:43.780722Z",
     "start_time": "2021-11-03T21:35:43.571333Z"
    }
   },
   "outputs": [],
   "source": [
    "ref_test_data1.to_csv('test_data_w_result.csv', encoding='utf-8')"
   ]
  },
  {
   "cell_type": "code",
   "execution_count": 921,
   "id": "3ad46d24",
   "metadata": {},
   "outputs": [],
   "source": [
    "refined_data1.to_csv('refined_train_data.csv', encoding='utf-8')"
   ]
  },
  {
   "cell_type": "code",
   "execution_count": null,
   "id": "ea398104",
   "metadata": {},
   "outputs": [],
   "source": []
  }
 ],
 "metadata": {
  "kernelspec": {
   "display_name": "Python 3 (ipykernel)",
   "language": "python",
   "name": "python3"
  },
  "language_info": {
   "codemirror_mode": {
    "name": "ipython",
    "version": 3
   },
   "file_extension": ".py",
   "mimetype": "text/x-python",
   "name": "python",
   "nbconvert_exporter": "python",
   "pygments_lexer": "ipython3",
   "version": "3.9.7"
  },
  "toc": {
   "base_numbering": 1,
   "nav_menu": {},
   "number_sections": true,
   "sideBar": true,
   "skip_h1_title": false,
   "title_cell": "Table of Contents",
   "title_sidebar": "Contents",
   "toc_cell": false,
   "toc_position": {},
   "toc_section_display": true,
   "toc_window_display": false
  }
 },
 "nbformat": 4,
 "nbformat_minor": 5
}
